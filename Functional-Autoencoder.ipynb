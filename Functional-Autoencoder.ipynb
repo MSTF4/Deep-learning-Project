{
 "cells": [
  {
   "cell_type": "code",
   "execution_count": 364,
   "metadata": {
    "colab": {
     "base_uri": "https://localhost:8080/",
     "height": 34
    },
    "colab_type": "code",
    "executionInfo": {
     "elapsed": 947,
     "status": "ok",
     "timestamp": 1581732938921,
     "user": {
      "displayName": "MSTF OS2R3H",
      "photoUrl": "",
      "userId": "16205853626530655680"
     },
     "user_tz": 480
    },
    "id": "9e0wvhVkwFBu",
    "outputId": "08b0b3c8-eb96-4a36-c9c6-29626db605b1"
   },
   "outputs": [
    {
     "name": "stdout",
     "output_type": "stream",
     "text": [
      "Drive already mounted at /content/drive; to attempt to forcibly remount, call drive.mount(\"/content/drive\", force_remount=True).\n"
     ]
    }
   ],
   "source": [
    "#Connect Google Drive to Colab\n",
    "\n",
    "from google.colab import drive\n",
    "drive.mount('/content/drive')"
   ]
  },
  {
   "cell_type": "code",
   "execution_count": null,
   "metadata": {
    "colab": {},
    "colab_type": "code",
    "id": "hSUJsXyVwJW3"
   },
   "outputs": [],
   "source": [
    "#Drive REST API and authenticate\n",
    "\n",
    "from google.colab import auth\n",
    "auth.authenticate_user()"
   ]
  },
  {
   "cell_type": "code",
   "execution_count": 366,
   "metadata": {
    "colab": {
     "base_uri": "https://localhost:8080/",
     "height": 85
    },
    "colab_type": "code",
    "executionInfo": {
     "elapsed": 31038,
     "status": "ok",
     "timestamp": 1581732974247,
     "user": {
      "displayName": "MSTF OS2R3H",
      "photoUrl": "",
      "userId": "16205853626530655680"
     },
     "user_tz": 480
    },
    "id": "Nqci9p-WwPlR",
    "outputId": "e8470e45-4901-4deb-e174-bc648600e75d"
   },
   "outputs": [
    {
     "name": "stdout",
     "output_type": "stream",
     "text": [
      "Encoder        model.h5   test\t    train      validation\n",
      "model_best.h5  model.png  test.csv  train.csv  valid.csv\n",
      " 3761-16440-1-PB.pdf  'Getting started.pdf'\n",
      "'Colab Notebooks'      vgg16_weights_kernels.h5\n"
     ]
    }
   ],
   "source": [
    "#List Files and Directories\n",
    "\n",
    "!ls -a\n",
    "!ls \"/content/drive/My Drive\" -a"
   ]
  },
  {
   "cell_type": "code",
   "execution_count": null,
   "metadata": {
    "colab": {},
    "colab_type": "code",
    "id": "a7-kjOwcwQhn"
   },
   "outputs": [],
   "source": [
    "#Change dir\n",
    "import os\n",
    "os.chdir('/content/drive/My Drive/Colab Notebooks')"
   ]
  },
  {
   "cell_type": "code",
   "execution_count": null,
   "metadata": {
    "colab": {},
    "colab_type": "code",
    "id": "gVecEZdQkK_n"
   },
   "outputs": [],
   "source": [
    "#unzip data in Folder\n",
    "!unzip -q data1.zip -d data1/"
   ]
  },
  {
   "cell_type": "code",
   "execution_count": 5,
   "metadata": {
    "colab": {
     "base_uri": "https://localhost:8080/",
     "height": 51
    },
    "colab_type": "code",
    "executionInfo": {
     "elapsed": 9149,
     "status": "ok",
     "timestamp": 1581717367911,
     "user": {
      "displayName": "MSTF OS2R3H",
      "photoUrl": "",
      "userId": "16205853626530655680"
     },
     "user_tz": 480
    },
    "id": "E82grprdYPI0",
    "outputId": "7704c82b-9c2d-4032-9eff-ce48fad43e01"
   },
   "outputs": [
    {
     "name": "stdout",
     "output_type": "stream",
     "text": [
      "TensorFlow 2.x selected.\n"
     ]
    },
    {
     "data": {
      "text/plain": [
       "'2.1.0'"
      ]
     },
     "execution_count": 5,
     "metadata": {
      "tags": []
     },
     "output_type": "execute_result"
    }
   ],
   "source": [
    "try:\n",
    "  # %tensorflow_version only exists in Colab.\n",
    "  %tensorflow_version 2.x\n",
    "except Exception:\n",
    "  pass\n",
    "import tensorflow as tf\n",
    "tf.__version__"
   ]
  },
  {
   "cell_type": "code",
   "execution_count": null,
   "metadata": {
    "colab": {},
    "colab_type": "code",
    "id": "3Z1usuu5I8n9"
   },
   "outputs": [],
   "source": [
    "# Import Usable Library\n",
    "import os\n",
    "import cv2\n",
    "import keras\n",
    "import random\n",
    "import pickle\n",
    "import numpy as np\n",
    "import pandas as pd\n",
    "from tqdm import tqdm\n",
    "import tensorflow as tf\n",
    "import tensorflow as tp\n",
    "from tensorflow import keras\n",
    "from keras.models import Model\n",
    "from keras import backend as K\n",
    "import matplotlib.pyplot as plt\n",
    "from keras.models import Sequential\n",
    "from keras.preprocessing import image\n",
    "from keras.layers import Input, Dense\n",
    "from keras.utils import to_categorical\n",
    "from keras.layers import Conv2D, MaxPooling2D\n",
    "from tensorflow.keras.models import Sequential\n",
    "from sklearn.preprocessing import StandardScaler\n",
    "from keras.layers import Dense, Dropout, Flatten\n",
    "from sklearn.model_selection import train_test_split\n",
    "from sklearn.datasets import fetch_california_housing\n",
    "from tensorflow.keras.layers import Conv2D, MaxPooling2D\n",
    "from keras.layers import LSTM, Dense, Activation, Embedding\n",
    "from tensorflow.keras.preprocessing.image import ImageDataGenerator\n",
    "from keras.layers import Input, Dense, Conv2D, MaxPooling2D, UpSampling2D\n",
    "from tensorflow.keras.layers import Dense, Dropout, Activation, Flatten\n"
   ]
  },
  {
   "cell_type": "code",
   "execution_count": 369,
   "metadata": {
    "colab": {
     "base_uri": "https://localhost:8080/",
     "height": 34
    },
    "colab_type": "code",
    "executionInfo": {
     "elapsed": 15085,
     "status": "ok",
     "timestamp": 1581732974657,
     "user": {
      "displayName": "MSTF OS2R3H",
      "photoUrl": "",
      "userId": "16205853626530655680"
     },
     "user_tz": 480
    },
    "id": "EClticfEJDTR",
    "outputId": "80ea1cf9-429e-4ad8-efc2-8781abe029e7"
   },
   "outputs": [
    {
     "data": {
      "text/plain": [
       "'2.1.0'"
      ]
     },
     "execution_count": 369,
     "metadata": {
      "tags": []
     },
     "output_type": "execute_result"
    }
   ],
   "source": [
    "# Import Necessary Library\n",
    "\n",
    "import warnings\n",
    "import numpy as np\n",
    "import pandas as pd\n",
    "from PIL import Image\n",
    "import tensorflow as tf\n",
    "from keras import Sequential\n",
    "from matplotlib.pyplot import *\n",
    "import matplotlib.pyplot as plt\n",
    "import tensorflow.keras as keras\n",
    "from keras.optimizers import Adam\n",
    "from keras.layers import Activation\n",
    "from keras.preprocessing import image\n",
    "warnings.filterwarnings(action='ignore')\n",
    "from keras.callbacks import EarlyStopping\n",
    "from keras.optimizers import SGD , RMSprop\n",
    "from keras import layers, models, optimizers\n",
    "from tensorflow.keras.models import Sequential\n",
    "from tensorflow.keras.layers import InputLayer\n",
    "from keras.losses import categorical_crossentropy\n",
    "from keras.preprocessing.image import ImageDataGenerator\n",
    "from keras.callbacks import EarlyStopping, ModelCheckpoint\n",
    "from keras.layers import Conv2D,MaxPool2D,Dropout,Dense,Flatten,BatchNormalization\n",
    "from keras.callbacks import ModelCheckpoint,Callback,EarlyStopping\n",
    "from keras.layers import Conv2D,MaxPooling2D,Dense,Dropout,Input,Flatten,SeparableConv2D\n",
    "tf.__version__"
   ]
  },
  {
   "cell_type": "code",
   "execution_count": 370,
   "metadata": {
    "colab": {
     "base_uri": "https://localhost:8080/",
     "height": 51
    },
    "colab_type": "code",
    "executionInfo": {
     "elapsed": 13731,
     "status": "ok",
     "timestamp": 1581732975709,
     "user": {
      "displayName": "MSTF OS2R3H",
      "photoUrl": "",
      "userId": "16205853626530655680"
     },
     "user_tz": 480
    },
    "id": "UBZQlNMCtooq",
    "outputId": "cb7d7d17-9857-48c9-e99c-bf15b0f50eaa"
   },
   "outputs": [
    {
     "name": "stdout",
     "output_type": "stream",
     "text": [
      "Encoder        model.h5   test\t    train      validation\n",
      "model_best.h5  model.png  test.csv  train.csv  valid.csv\n"
     ]
    }
   ],
   "source": [
    "os.chdir('/content/drive/My Drive/Colab Notebooks/data1')\n",
    "!ls"
   ]
  },
  {
   "cell_type": "code",
   "execution_count": null,
   "metadata": {
    "colab": {},
    "colab_type": "code",
    "id": "YNDO7m53bIQG"
   },
   "outputs": [],
   "source": [
    "colnames=[\"filename\", \"label\"]\n",
    "train = pd.read_csv('train.csv', names=colnames,header=None)\n",
    "valid = pd.read_csv('valid.csv', names=colnames,header=None)\n",
    "test  = pd.read_csv('test.csv', names=colnames,header=None)"
   ]
  },
  {
   "cell_type": "code",
   "execution_count": 372,
   "metadata": {
    "colab": {
     "base_uri": "https://localhost:8080/",
     "height": 204
    },
    "colab_type": "code",
    "executionInfo": {
     "elapsed": 9215,
     "status": "ok",
     "timestamp": 1581732975713,
     "user": {
      "displayName": "MSTF OS2R3H",
      "photoUrl": "",
      "userId": "16205853626530655680"
     },
     "user_tz": 480
    },
    "id": "7KA1b432bIQP",
    "outputId": "c984d0f4-30c9-46c0-9448-3f26e687ce93"
   },
   "outputs": [
    {
     "data": {
      "text/html": [
       "<div>\n",
       "<style scoped>\n",
       "    .dataframe tbody tr th:only-of-type {\n",
       "        vertical-align: middle;\n",
       "    }\n",
       "\n",
       "    .dataframe tbody tr th {\n",
       "        vertical-align: top;\n",
       "    }\n",
       "\n",
       "    .dataframe thead th {\n",
       "        text-align: right;\n",
       "    }\n",
       "</style>\n",
       "<table border=\"1\" class=\"dataframe\">\n",
       "  <thead>\n",
       "    <tr style=\"text-align: right;\">\n",
       "      <th></th>\n",
       "      <th>filename</th>\n",
       "      <th>label</th>\n",
       "    </tr>\n",
       "  </thead>\n",
       "  <tbody>\n",
       "    <tr>\n",
       "      <th>0</th>\n",
       "      <td>swift-0.jpg</td>\n",
       "      <td>0</td>\n",
       "    </tr>\n",
       "    <tr>\n",
       "      <th>1</th>\n",
       "      <td>swift-1.jpg</td>\n",
       "      <td>0</td>\n",
       "    </tr>\n",
       "    <tr>\n",
       "      <th>2</th>\n",
       "      <td>swift-10.jpg</td>\n",
       "      <td>0</td>\n",
       "    </tr>\n",
       "    <tr>\n",
       "      <th>3</th>\n",
       "      <td>swift-100.jpg</td>\n",
       "      <td>0</td>\n",
       "    </tr>\n",
       "    <tr>\n",
       "      <th>4</th>\n",
       "      <td>swift-1000.jpg</td>\n",
       "      <td>0</td>\n",
       "    </tr>\n",
       "  </tbody>\n",
       "</table>\n",
       "</div>"
      ],
      "text/plain": [
       "         filename  label\n",
       "0     swift-0.jpg      0\n",
       "1     swift-1.jpg      0\n",
       "2    swift-10.jpg      0\n",
       "3   swift-100.jpg      0\n",
       "4  swift-1000.jpg      0"
      ]
     },
     "execution_count": 372,
     "metadata": {
      "tags": []
     },
     "output_type": "execute_result"
    }
   ],
   "source": [
    "train.head()"
   ]
  },
  {
   "cell_type": "code",
   "execution_count": 422,
   "metadata": {
    "colab": {
     "base_uri": "https://localhost:8080/",
     "height": 68
    },
    "colab_type": "code",
    "executionInfo": {
     "elapsed": 15816,
     "status": "ok",
     "timestamp": 1581734725629,
     "user": {
      "displayName": "MSTF OS2R3H",
      "photoUrl": "",
      "userId": "16205853626530655680"
     },
     "user_tz": 480
    },
    "id": "k6y5fjMw-E74",
    "outputId": "3caa7cf9-7e2a-4402-eddb-8e568051b580"
   },
   "outputs": [
    {
     "name": "stderr",
     "output_type": "stream",
     "text": [
      "100%|██████████| 2400/2400 [00:09<00:00, 263.94it/s]\n",
      "100%|██████████| 800/800 [00:02<00:00, 276.33it/s]\n",
      "100%|██████████| 800/800 [00:02<00:00, 277.51it/s]\n"
     ]
    }
   ],
   "source": [
    "train_image = []\n",
    "for i in tqdm(range(train.shape[0])):\n",
    "    img = image.load_img('train/'+train['filename'][i], target_size=(28,28,1))\n",
    "    img = image.img_to_array(img)\n",
    "    img = img/255\n",
    "    train_image.append(img)\n",
    "X_train = np.array(train_image)\n",
    "\n",
    "\n",
    "valid_image = []\n",
    "for i in tqdm(range(valid.shape[0])):\n",
    "    img = image.load_img('validation/'+valid['filename'][i], target_size=(28,28,1))\n",
    "    img = image.img_to_array(img)\n",
    "    img = img/255\n",
    "    valid_image.append(img)\n",
    "X_valid = np.array(valid_image)\n",
    "\n",
    "\n",
    "test_image = []\n",
    "for i in tqdm(range(test.shape[0])):\n",
    "    img = image.load_img('test/'+test['filename'][i], target_size=(28,28,1))\n",
    "    img = image.img_to_array(img)\n",
    "    img = img/255\n",
    "    test_image.append(img)\n",
    "X_test = np.array(test_image)"
   ]
  },
  {
   "cell_type": "code",
   "execution_count": 423,
   "metadata": {
    "colab": {
     "base_uri": "https://localhost:8080/",
     "height": 68
    },
    "colab_type": "code",
    "executionInfo": {
     "elapsed": 1004,
     "status": "ok",
     "timestamp": 1581734727598,
     "user": {
      "displayName": "MSTF OS2R3H",
      "photoUrl": "",
      "userId": "16205853626530655680"
     },
     "user_tz": 480
    },
    "id": "mywVtDoPreAD",
    "outputId": "748eb6a7-db02-4588-c250-29e363dae9c9"
   },
   "outputs": [
    {
     "name": "stdout",
     "output_type": "stream",
     "text": [
      "X_train shape is:    (2400, 28, 28, 3) Y_train shape is:   (2400,) \n",
      " X_valid shape is:    (800, 28, 28, 3) Y_valid shape is:   (800,) \n",
      " X_test shape is:     (800, 28, 28, 3) Y_test shape is:    (800,)\n"
     ]
    }
   ],
   "source": [
    "Y_train = train['label']\n",
    "Y_valid = valid['label']\n",
    "Y_test  = test['label']\n",
    "print( \"X_train shape is:   \" , X_train.shape,\"Y_train shape is:  \" , Y_train.shape,\"\\n\"\n",
    "      ,\"X_valid shape is:   \" , X_valid.shape,\"Y_valid shape is:  \" , Y_valid.shape,\"\\n\" \n",
    "      ,\"X_test shape is:    \" , X_test.shape, \"Y_test shape is:   \" , Y_test.shape\n",
    "       )"
   ]
  },
  {
   "cell_type": "code",
   "execution_count": null,
   "metadata": {
    "colab": {},
    "colab_type": "code",
    "id": "cJEhuW5LGXX-"
   },
   "outputs": [],
   "source": [
    "#Functional Model\n",
    "\n",
    "input = keras.layers.Input(shape=(28,28,3))\n",
    "F1 = keras.layers.Flatten()(input)\n",
    "D1 = keras.layers.Dense(60, activation=\"relu\")(F1)\n",
    "B1 = keras.layers.BatchNormalization()(D1)\n",
    "D1 = keras.layers.Dropout(0.20)(B1)\n",
    "C1 = keras.layers.concatenate([F1, D1])\n",
    "D2 = keras.layers.Dropout(0.20)(C1)\n",
    "output = keras.layers.Dense(1)(C1)\n",
    "model = keras.models.Model(inputs=[input], outputs=[output])"
   ]
  },
  {
   "cell_type": "code",
   "execution_count": 425,
   "metadata": {
    "colab": {
     "base_uri": "https://localhost:8080/",
     "height": 754
    },
    "colab_type": "code",
    "executionInfo": {
     "elapsed": 1345,
     "status": "ok",
     "timestamp": 1581734731166,
     "user": {
      "displayName": "MSTF OS2R3H",
      "photoUrl": "",
      "userId": "16205853626530655680"
     },
     "user_tz": 480
    },
    "id": "upzjmvi5GyiW",
    "outputId": "a987144d-33fd-48ee-b474-b89a30ce3b4c"
   },
   "outputs": [
    {
     "data": {
      "image/png": "[encoded data removed]",
      "text/plain": [
       "<IPython.core.display.Image object>"
      ]
     },
     "execution_count": 425,
     "metadata": {
      "tags": []
     },
     "output_type": "execute_result"
    }
   ],
   "source": [
    "keras.utils.plot_model(model,  show_shapes=True)"
   ]
  },
  {
   "cell_type": "code",
   "execution_count": 426,
   "metadata": {
    "colab": {
     "base_uri": "https://localhost:8080/",
     "height": 408
    },
    "colab_type": "code",
    "executionInfo": {
     "elapsed": 639,
     "status": "ok",
     "timestamp": 1581734731618,
     "user": {
      "displayName": "MSTF OS2R3H",
      "photoUrl": "",
      "userId": "16205853626530655680"
     },
     "user_tz": 480
    },
    "id": "7ZuXXB2RG1py",
    "outputId": "83439292-a9ae-42d0-898a-69fad889b472"
   },
   "outputs": [
    {
     "name": "stdout",
     "output_type": "stream",
     "text": [
      "Model: \"model_70\"\n",
      "__________________________________________________________________________________________________\n",
      "Layer (type)                    Output Shape         Param #     Connected to                     \n",
      "==================================================================================================\n",
      "input_170 (InputLayer)          [(None, 28, 28, 3)]  0                                            \n",
      "__________________________________________________________________________________________________\n",
      "flatten_50 (Flatten)            (None, 2352)         0           input_170[0][0]                  \n",
      "__________________________________________________________________________________________________\n",
      "dense_141 (Dense)               (None, 60)           141180      flatten_50[0][0]                 \n",
      "__________________________________________________________________________________________________\n",
      "batch_normalization_16 (BatchNo (None, 60)           240         dense_141[0][0]                  \n",
      "__________________________________________________________________________________________________\n",
      "dropout_19 (Dropout)            (None, 60)           0           batch_normalization_16[0][0]     \n",
      "__________________________________________________________________________________________________\n",
      "concatenate_10 (Concatenate)    (None, 2412)         0           flatten_50[0][0]                 \n",
      "                                                                 dropout_19[0][0]                 \n",
      "__________________________________________________________________________________________________\n",
      "dense_142 (Dense)               (None, 1)            2413        concatenate_10[0][0]             \n",
      "==================================================================================================\n",
      "Total params: 143,833\n",
      "Trainable params: 143,713\n",
      "Non-trainable params: 120\n",
      "__________________________________________________________________________________________________\n"
     ]
    }
   ],
   "source": [
    "model.summary()"
   ]
  },
  {
   "cell_type": "code",
   "execution_count": null,
   "metadata": {
    "colab": {},
    "colab_type": "code",
    "id": "_MEMfl1KG37g"
   },
   "outputs": [],
   "source": [
    "model.compile(loss=\"mean_squared_error\", optimizer=keras.optimizers.SGD(lr=1e-3),metrics=[\"accuracy\"])"
   ]
  },
  {
   "cell_type": "code",
   "execution_count": 428,
   "metadata": {
    "colab": {
     "base_uri": "https://localhost:8080/",
     "height": 1000
    },
    "colab_type": "code",
    "executionInfo": {
     "elapsed": 11784,
     "status": "ok",
     "timestamp": 1581734745052,
     "user": {
      "displayName": "MSTF OS2R3H",
      "photoUrl": "",
      "userId": "16205853626530655680"
     },
     "user_tz": 480
    },
    "id": "AO_WlAsUH1mr",
    "outputId": "e4aa347b-92a5-40c9-86f8-928b37700653"
   },
   "outputs": [
    {
     "name": "stdout",
     "output_type": "stream",
     "text": [
      "Train on 2400 samples, validate on 800 samples\n",
      "Epoch 1/100\n",
      "2400/2400 [==============================] - 1s 364us/sample - loss: 0.3869 - accuracy: 0.5000 - val_loss: 0.3279 - val_accuracy: 0.5250\n",
      "Epoch 2/100\n",
      "2400/2400 [==============================] - 0s 158us/sample - loss: 0.3360 - accuracy: 0.5158 - val_loss: 0.3251 - val_accuracy: 0.5375\n",
      "Epoch 3/100\n",
      "2400/2400 [==============================] - 0s 147us/sample - loss: 0.3110 - accuracy: 0.5263 - val_loss: 0.3074 - val_accuracy: 0.5375\n",
      "Epoch 4/100\n",
      "2400/2400 [==============================] - 0s 166us/sample - loss: 0.3009 - accuracy: 0.5458 - val_loss: 0.3101 - val_accuracy: 0.5450\n",
      "Epoch 5/100\n",
      "2400/2400 [==============================] - 0s 141us/sample - loss: 0.2828 - accuracy: 0.5633 - val_loss: 0.2871 - val_accuracy: 0.5550\n",
      "Epoch 6/100\n",
      "2400/2400 [==============================] - 0s 153us/sample - loss: 0.2743 - accuracy: 0.5783 - val_loss: 0.2839 - val_accuracy: 0.5725\n",
      "Epoch 7/100\n",
      "2400/2400 [==============================] - 0s 157us/sample - loss: 0.2722 - accuracy: 0.5842 - val_loss: 0.2779 - val_accuracy: 0.5700\n",
      "Epoch 8/100\n",
      "2400/2400 [==============================] - 0s 144us/sample - loss: 0.2624 - accuracy: 0.5929 - val_loss: 0.2793 - val_accuracy: 0.5625\n",
      "Epoch 9/100\n",
      "2400/2400 [==============================] - 0s 141us/sample - loss: 0.2566 - accuracy: 0.5992 - val_loss: 0.2787 - val_accuracy: 0.5738\n",
      "Epoch 10/100\n",
      "2400/2400 [==============================] - 0s 145us/sample - loss: 0.2531 - accuracy: 0.5888 - val_loss: 0.2742 - val_accuracy: 0.5788\n",
      "Epoch 11/100\n",
      "2400/2400 [==============================] - 0s 150us/sample - loss: 0.2503 - accuracy: 0.6017 - val_loss: 0.2709 - val_accuracy: 0.5763\n",
      "Epoch 12/100\n",
      "2400/2400 [==============================] - 0s 144us/sample - loss: 0.2460 - accuracy: 0.6050 - val_loss: 0.2697 - val_accuracy: 0.5850\n",
      "Epoch 13/100\n",
      "2400/2400 [==============================] - 0s 144us/sample - loss: 0.2452 - accuracy: 0.6108 - val_loss: 0.2758 - val_accuracy: 0.5800\n",
      "Epoch 14/100\n",
      "2400/2400 [==============================] - 0s 141us/sample - loss: 0.2407 - accuracy: 0.6196 - val_loss: 0.2697 - val_accuracy: 0.5863\n",
      "Epoch 15/100\n",
      "2400/2400 [==============================] - 0s 148us/sample - loss: 0.2406 - accuracy: 0.6275 - val_loss: 0.2660 - val_accuracy: 0.5962\n",
      "Epoch 16/100\n",
      "2400/2400 [==============================] - 0s 146us/sample - loss: 0.2284 - accuracy: 0.6379 - val_loss: 0.2919 - val_accuracy: 0.5587\n",
      "Epoch 17/100\n",
      "2400/2400 [==============================] - 0s 152us/sample - loss: 0.2297 - accuracy: 0.6388 - val_loss: 0.2668 - val_accuracy: 0.5813\n",
      "Epoch 18/100\n",
      "2400/2400 [==============================] - 0s 148us/sample - loss: 0.2291 - accuracy: 0.6458 - val_loss: 0.2705 - val_accuracy: 0.5775\n",
      "Epoch 19/100\n",
      "2400/2400 [==============================] - 0s 147us/sample - loss: 0.2306 - accuracy: 0.6479 - val_loss: 0.2650 - val_accuracy: 0.5888\n",
      "Epoch 20/100\n",
      "2400/2400 [==============================] - 0s 143us/sample - loss: 0.2213 - accuracy: 0.6479 - val_loss: 0.2705 - val_accuracy: 0.5825\n",
      "Epoch 21/100\n",
      "2400/2400 [==============================] - 0s 154us/sample - loss: 0.2173 - accuracy: 0.6608 - val_loss: 0.2724 - val_accuracy: 0.5750\n",
      "Epoch 22/100\n",
      "2400/2400 [==============================] - 0s 133us/sample - loss: 0.2196 - accuracy: 0.6621 - val_loss: 0.2656 - val_accuracy: 0.5838\n",
      "Epoch 23/100\n",
      "2400/2400 [==============================] - 0s 133us/sample - loss: 0.2160 - accuracy: 0.6608 - val_loss: 0.2650 - val_accuracy: 0.5888\n",
      "Epoch 24/100\n",
      "2400/2400 [==============================] - 0s 146us/sample - loss: 0.2150 - accuracy: 0.6712 - val_loss: 0.2672 - val_accuracy: 0.5938\n",
      "Epoch 25/100\n",
      "2400/2400 [==============================] - 0s 151us/sample - loss: 0.2098 - accuracy: 0.6725 - val_loss: 0.2669 - val_accuracy: 0.5975\n",
      "Epoch 26/100\n",
      "2400/2400 [==============================] - 0s 140us/sample - loss: 0.2120 - accuracy: 0.6662 - val_loss: 0.2868 - val_accuracy: 0.5650\n",
      "Epoch 27/100\n",
      "2400/2400 [==============================] - 0s 161us/sample - loss: 0.2091 - accuracy: 0.6858 - val_loss: 0.2686 - val_accuracy: 0.5850\n",
      "Epoch 28/100\n",
      "2400/2400 [==============================] - 0s 127us/sample - loss: 0.2051 - accuracy: 0.6867 - val_loss: 0.2696 - val_accuracy: 0.5925\n",
      "Epoch 29/100\n",
      "2400/2400 [==============================] - 0s 142us/sample - loss: 0.2057 - accuracy: 0.6833 - val_loss: 0.2682 - val_accuracy: 0.5900\n"
     ]
    },
    {
     "data": {
      "text/plain": [
       "<tensorflow.python.keras.callbacks.History at 0x7f22fc7867b8>"
      ]
     },
     "execution_count": 428,
     "metadata": {
      "tags": []
     },
     "output_type": "execute_result"
    }
   ],
   "source": [
    "early_stopping = keras.callbacks.EarlyStopping(patience=10,\n",
    "                                                  restore_best_weights=True)\n",
    "model.fit(X_train, Y_train, epochs=100,\n",
    "                    validation_data=(X_valid,Y_valid),\n",
    "                    callbacks=[ early_stopping])"
   ]
  },
  {
   "cell_type": "code",
   "execution_count": null,
   "metadata": {
    "colab": {},
    "colab_type": "code",
    "id": "Hinj3AlqI6Eu"
   },
   "outputs": [],
   "source": [
    "# This returns a tensor\n",
    "inputs = keras.Input(shape=(2400, 28, 28, 3))\n",
    "\n",
    "# a layer instance is callable on a tensor, and returns a tensor\n",
    "output_1 = keras.layers.Dense(64, activation='relu')(inputs)\n",
    "output_2 = keras.layers.Dense(64, activation='relu')(output_1)\n",
    "predictions = keras.layers.Dense(10, activation='softmax')(output_2)\n",
    "\n",
    "# This creates a model that includes\n",
    "# the Input layer and three Dense layers\n",
    "model = keras.models.Model(inputs=inputs, outputs=predictions)\n",
    "model.compile(optimizer='rmsprop',\n",
    "              loss='binary_crossentropy',\n",
    "              metrics=['accuracy'])"
   ]
  },
  {
   "cell_type": "code",
   "execution_count": null,
   "metadata": {
    "colab": {},
    "colab_type": "code",
    "id": "oGtdplb3KH0K"
   },
   "outputs": [],
   "source": [
    "early_stopping = [EarlyStopping(monitor='val_loss', patience=3 ), \n",
    "            ModelCheckpoint(filepath='end.h5', monitor='val_loss' , save_best_only=True)]\n",
    "history = model.fit(X_train, Y_train,\n",
    "                    steps_per_epoch= 120,  #number train_images/batch size(2400/20)\n",
    "                    epochs=10,\n",
    "                    validation_data=(X_valid,Y_valid),\n",
    "                    validation_steps=40, #number valid_images/batch_size(800/20)\n",
    "                    shuffle=True,\n",
    "                    callbacks = early_stopping)"
   ]
  },
  {
   "cell_type": "code",
   "execution_count": null,
   "metadata": {
    "colab": {},
    "colab_type": "code",
    "id": "luzndraBKvUA"
   },
   "outputs": [],
   "source": [
    "early_stopping = keras.callbacks.EarlyStopping(patience=10,\n",
    "                                                  restore_best_weights=True)\n",
    "model.fit(X_train, Y_train, epochs=100,\n",
    "                    validation_data=(X_valid,Y_valid),\n",
    "                    callbacks=[checkpoint, early_stopping])"
   ]
  },
  {
   "cell_type": "code",
   "execution_count": null,
   "metadata": {
    "colab": {},
    "colab_type": "code",
    "id": "6aQpGFq_jmR4"
   },
   "outputs": [],
   "source": [
    "# Functional API\n",
    "inputs = keras.Input(shape=(28, 28, 3))\n",
    "T1 = keras.layers.Conv2D(32, (1, 1), activation='relu')(inputs)\n",
    "T2 = keras.layers.MaxPooling2D(pool_size=(2, 2))(T1)\n",
    "T3 = keras.layers.Flatten()(T2)\n",
    "T4 = keras.layers.Dense(1, activation='softmax')(T3)\n",
    "T5 = keras.layers.BatchNormalization()(T4)\n",
    "T6 = keras.layers.Dropout(0.20)(T5)\n",
    "outputs = keras.layers.Dense(1, activation='softmax')(T6)\n",
    "model = keras.models.Model(inputs=[inputs], outputs=[outputs])"
   ]
  },
  {
   "cell_type": "code",
   "execution_count": 466,
   "metadata": {
    "colab": {
     "base_uri": "https://localhost:8080/",
     "height": 425
    },
    "colab_type": "code",
    "executionInfo": {
     "elapsed": 737,
     "status": "ok",
     "timestamp": 1581736464275,
     "user": {
      "displayName": "MSTF OS2R3H",
      "photoUrl": "",
      "userId": "16205853626530655680"
     },
     "user_tz": 480
    },
    "id": "a9eoKwUGp-YW",
    "outputId": "61e9017a-a5ea-43df-f352-0c792443705d"
   },
   "outputs": [
    {
     "name": "stdout",
     "output_type": "stream",
     "text": [
      "Model: \"model_76\"\n",
      "_________________________________________________________________\n",
      "Layer (type)                 Output Shape              Param #   \n",
      "=================================================================\n",
      "input_184 (InputLayer)       [(None, 28, 28, 3)]       0         \n",
      "_________________________________________________________________\n",
      "conv2d_131 (Conv2D)          (None, 28, 28, 32)        128       \n",
      "_________________________________________________________________\n",
      "max_pooling2d_99 (MaxPooling (None, 14, 14, 32)        0         \n",
      "_________________________________________________________________\n",
      "flatten_64 (Flatten)         (None, 6272)              0         \n",
      "_________________________________________________________________\n",
      "dense_162 (Dense)            (None, 1)                 6273      \n",
      "_________________________________________________________________\n",
      "batch_normalization_23 (Batc (None, 1)                 4         \n",
      "_________________________________________________________________\n",
      "dropout_29 (Dropout)         (None, 1)                 0         \n",
      "_________________________________________________________________\n",
      "dense_163 (Dense)            (None, 1)                 2         \n",
      "=================================================================\n",
      "Total params: 6,407\n",
      "Trainable params: 6,405\n",
      "Non-trainable params: 2\n",
      "_________________________________________________________________\n"
     ]
    }
   ],
   "source": [
    "model.compile(optimizer='rmsprop',\n",
    "              loss='binary_crossentropy',\n",
    "              metrics=['accuracy'])\n",
    "model.summary()"
   ]
  },
  {
   "cell_type": "code",
   "execution_count": null,
   "metadata": {
    "colab": {
     "base_uri": "https://localhost:8080/",
     "height": 357
    },
    "colab_type": "code",
    "executionInfo": {
     "elapsed": 2857006,
     "status": "ok",
     "timestamp": 1581709430983,
     "user": {
      "displayName": "MSTF OS2R3H",
      "photoUrl": "",
      "userId": "16205853626530655680"
     },
     "user_tz": 480
    },
    "id": "DO7Qld4GDcjs",
    "outputId": "f3d2d8b4-e64b-4842-e978-a1d8672084a9"
   },
   "outputs": [
    {
     "name": "stdout",
     "output_type": "stream",
     "text": [
      "Epoch 1/10\n",
      "120/120 [==============================] - 21s 175ms/step - loss: 0.6736 - acc: 0.6992 - val_loss: 0.6211 - val_acc: 0.6637\n",
      "Epoch 2/10\n",
      "120/120 [==============================] - 247s 2s/step - loss: 0.6122 - acc: 0.6533 - val_loss: 0.5920 - val_acc: 0.6371\n",
      "Epoch 3/10\n",
      "120/120 [==============================] - 246s 2s/step - loss: 0.4246 - acc: 0.6813 - val_loss: 0.4895 - val_acc: 0.6512\n",
      "Epoch 4/10\n",
      "120/120 [==============================] - 246s 2s/step - loss: 0.4230 - acc: 0.6971 - val_loss: 0.3704 - val_acc: 0.6721\n",
      "Epoch 5/10\n",
      "120/120 [==============================] - 245s 2s/step - loss: 0.4073 - acc: 0.6912 - val_loss: 0.4138 - val_acc: 0.6804\n",
      "Epoch 6/10\n",
      "120/120 [==============================] - 248s 2s/step - loss: 0.3921 - acc: 0.7241 - val_loss: 0.3544 - val_acc: 0.7050\n",
      "Epoch 7/10\n",
      "120/120 [==============================] - 246s 2s/step - loss: 0.3605 - acc: 0.7079 - val_loss: 0.3791 - val_acc: 0.6812\n",
      "Epoch 8/10\n",
      "120/120 [==============================] - 243s 2s/step - loss: 0.3585 - acc: 0.7287 - val_loss: 0.3340 - val_acc: 0.6962\n",
      "Epoch 9/10\n",
      "120/120 [==============================] - 246s 2s/step - loss: 0.2575 - acc: 0.7304 - val_loss: 0.2564 - val_acc: 0.7087\n",
      "Epoch 10/10\n",
      "120/120 [==============================] - 248s 2s/step - loss: 0.2408 - acc: 0.7489 - val_loss: 0.2618 - val_acc: 0.7244\n"
     ]
    }
   ],
   "source": [
    "callback_list = [#save best model                    \n",
    "                 ModelCheckpoint(filepath= 'model.h5', monitor= 'val_acc', save_best_only= True),]\n",
    "\n",
    "history = model.fit(X_train,Y_train,\n",
    "                    steps_per_epoch = 120,  # = num_train_images/batch size(2400/20)\n",
    "                    epochs = 10,\n",
    "                    validation_data = (X_valid,Y_valid),\n",
    "                    callbacks = callback_list,\n",
    "                    validation_steps = 40  # = num_valid_images/batch_size\n",
    "                    )"
   ]
  },
  {
   "cell_type": "code",
   "execution_count": null,
   "metadata": {
    "colab": {},
    "colab_type": "code",
    "id": "A8Ar92ZOSpbU"
   },
   "outputs": [],
   "source": [
    "\n",
    "model = tf.keras.models.Sequential([\n",
    "    tf.keras.layers.Conv2D(16, (3,3), activation='relu', input_shape=(28, 28, 3)),\n",
    "    tf.keras.layers.MaxPooling2D(2, 2),\n",
    "    tf.keras.layers.Conv2D(32, (3,3), activation='relu'),\n",
    "    tf.keras.layers.MaxPooling2D(2,2),\n",
    "    tf.keras.layers.Conv2D(64, (3,3), activation='relu'),\n",
    "    tf.keras.layers.MaxPooling2D(2,2),\n",
    "    tf.keras.layers.Flatten(),\n",
    "    tf.keras.layers.Dense(128, activation='relu'),\n",
    "    tf.keras.layers.Dense(1, activation='softmax')\n",
    "])"
   ]
  },
  {
   "cell_type": "code",
   "execution_count": null,
   "metadata": {
    "colab": {},
    "colab_type": "code",
    "id": "o5NNnJm_vQI7"
   },
   "outputs": [],
   "source": []
  },
  {
   "cell_type": "code",
   "execution_count": 110,
   "metadata": {
    "colab": {
     "base_uri": "https://localhost:8080/",
     "height": 51
    },
    "colab_type": "code",
    "executionInfo": {
     "elapsed": 1122,
     "status": "ok",
     "timestamp": 1581721076036,
     "user": {
      "displayName": "MSTF OS2R3H",
      "photoUrl": "",
      "userId": "16205853626530655680"
     },
     "user_tz": 480
    },
    "id": "lx26XG99zX5t",
    "outputId": "1d9f63ff-1c0a-46d0-dc0d-0cf5f3517351"
   },
   "outputs": [
    {
     "name": "stdout",
     "output_type": "stream",
     "text": [
      "(2400, 2352)\n",
      "(800, 2352)\n"
     ]
    }
   ],
   "source": [
    "# Reshape float32 X_train and X_test:\n",
    "\n",
    "X_train = X_train.astype('float32') / 255.\n",
    "X_test = X_test.astype('float32') / 255.\n",
    "X_train = X_train.reshape((len(X_train), np.prod(X_train.shape[1:])))\n",
    "X_test = X_test.reshape((len(X_test), np.prod(X_test.shape[1:])))\n",
    "print(X_train.shape)\n",
    "print(X_test.shape)"
   ]
  },
  {
   "cell_type": "code",
   "execution_count": null,
   "metadata": {
    "colab": {},
    "colab_type": "code",
    "id": "hu39rqhPvQVw"
   },
   "outputs": [],
   "source": [
    "# A single fully-connected neural layer as encoder and as decoder:\n",
    "\n",
    "# this is the size of our encoded representations\n",
    "encoding_dim = 32\n",
    "input_img = keras.Input(shape=(2352,))\n",
    "encoded = keras.layers.Dense(encoding_dim, activation='relu')(input_img)\n",
    "decoded = keras.layers.Dense(2352, activation='sigmoid')(encoded)\n",
    "\n",
    "autoencoder = keras.models.Model(input_img, decoded)"
   ]
  },
  {
   "cell_type": "code",
   "execution_count": null,
   "metadata": {
    "colab": {},
    "colab_type": "code",
    "id": "muCUc2aMyYy2"
   },
   "outputs": [],
   "source": [
    "# Create a separate encoder model:\n",
    "\n",
    "encoder = keras.models.Model(input_img, encoded)\n",
    "\n",
    "# ENCODER:\n",
    "encoded_input = keras.Input(shape=(encoding_dim,))\n",
    "decoder_layer = autoencoder.layers[-1]\n",
    "# DECODER:\n",
    "decoder = keras.models.Model(encoded_input, decoder_layer(encoded_input))"
   ]
  },
  {
   "cell_type": "code",
   "execution_count": null,
   "metadata": {
    "colab": {},
    "colab_type": "code",
    "id": "LRP3JnmezXk8"
   },
   "outputs": [],
   "source": [
    "# Now let's train our autoencoder:\n",
    "\n",
    "autoencoder.compile(optimizer='adadelta', loss='binary_crossentropy')"
   ]
  },
  {
   "cell_type": "code",
   "execution_count": null,
   "metadata": {
    "colab": {},
    "colab_type": "code",
    "id": "1txCJAIiYh1A"
   },
   "outputs": [],
   "source": [
    "# Auto ENCODER:\n",
    "\n",
    "input_img = keras.Input(shape=(28, 28, 3))\n",
    "encoded = keras.layers.Dense(64, activation='relu')(input_img)\n",
    "encoded = keras.layers.Dense(32, activation='relu')(encoded)\n",
    "encoded = keras.layers.Dense(16, activation='relu')(encoded)\n",
    "\n",
    "decoded = keras.layers.Dense(32, activation='relu')(encoded)\n",
    "decoded = keras.layers.Dense(64, activation='relu')(decoded)\n",
    "decoded = keras.layers.Dense(784, activation='sigmoid')(decoded)"
   ]
  },
  {
   "cell_type": "code",
   "execution_count": null,
   "metadata": {
    "colab": {},
    "colab_type": "code",
    "id": "8192SW9euf77"
   },
   "outputs": [],
   "source": [
    "autoencoder = keras.models.Model(input_img, decoded)\n",
    "autoencoder.compile(optimizer='adadelta', loss='binary_crossentropy')\n",
    "\n",
    "autoencoder.fit(X_train, X_train,\n",
    "                epochs=100,\n",
    "                batch_size=256,\n",
    "                shuffle=True,\n",
    "                validation_data=(X_test, X_test))"
   ]
  },
  {
   "cell_type": "code",
   "execution_count": 130,
   "metadata": {
    "colab": {
     "base_uri": "https://localhost:8080/",
     "height": 34
    },
    "colab_type": "code",
    "executionInfo": {
     "elapsed": 1239,
     "status": "ok",
     "timestamp": 1581721854392,
     "user": {
      "displayName": "MSTF OS2R3H",
      "photoUrl": "",
      "userId": "16205853626530655680"
     },
     "user_tz": 480
    },
    "id": "ba1tjIlo9_To",
    "outputId": "916dcd6e-8761-4acd-fbe6-d62b038d86aa"
   },
   "outputs": [
    {
     "data": {
      "text/plain": [
       "(2400, 28, 28, 3)"
      ]
     },
     "execution_count": 130,
     "metadata": {
      "tags": []
     },
     "output_type": "execute_result"
    }
   ],
   "source": [
    "X_train.shape"
   ]
  },
  {
   "cell_type": "code",
   "execution_count": null,
   "metadata": {
    "colab": {},
    "colab_type": "code",
    "id": "pqXuuyRA8yyY"
   },
   "outputs": [],
   "source": [
    "# Build biger Autoencoder Model\n",
    "\n",
    "input_img = keras.Input(shape=(28, 28, 3)) \n",
    "x = keras.layers.Conv2D(16, (3, 3), activation='relu', padding='same')(input_img)\n",
    "x = keras.layers.MaxPooling2D((2, 2), padding='same')(x)\n",
    "x = keras.layers.Conv2D(8, (3, 3), activation='relu', padding='same')(x)\n",
    "x = keras.layers.MaxPooling2D((2, 2), padding='same')(x)\n",
    "x = keras.layers.Conv2D(8, (3, 3), activation='relu', padding='same')(x)\n",
    "encoded = keras.layers.MaxPooling2D((2, 2), padding='same')(x)\n",
    "\n",
    "\n",
    "x = keras.layers.Conv2D(8, (3, 3), activation='relu', padding='same')(encoded)\n",
    "x = keras.layers.UpSampling2D((2, 2))(x)\n",
    "x = keras.layers.Conv2D(8, (3, 3), activation='relu', padding='same')(x)\n",
    "x = keras.layers.UpSampling2D((2, 2))(x)\n",
    "x = keras.layers.Conv2D(16, (3, 3), activation='relu')(x)\n",
    "x = keras.layers.UpSampling2D((2, 2))(x)\n",
    "decoded = keras.layers.Conv2D(1, (3, 3), activation='sigmoid', padding='same')(x)\n",
    "\n",
    "autoencoder = keras.models.Model(input_img, decoded)\n",
    "autoencoder.compile(optimizer='adadelta', loss='binary_crossentropy')\n",
    "\n",
    "X_train = X_train.astype('float32') / 255.\n",
    "X_test = X_test.astype('float32') / 255.\n",
    "X_train = np.reshape(X_train, (len(X_train), 28, 28, 3))  \n",
    "X_test = np.reshape(X_test, (len(X_test), 28, 28, 3))     "
   ]
  },
  {
   "cell_type": "code",
   "execution_count": null,
   "metadata": {
    "colab": {},
    "colab_type": "code",
    "id": "eczEJ3LtCxkp"
   },
   "outputs": [],
   "source": [
    "def build_autoencoder(img_shape, code_size):\n",
    "    # The encoder\n",
    "    encoder = Sequential()\n",
    "    encoder.add(InputLayer(img_shape))\n",
    "    encoder.add(keras.layers.Flatten())\n",
    "    encoder.add(keras.layers.Dense(code_size))\n",
    "\n",
    "    \n",
    "\n",
    "    # The decoder\n",
    "    decoder = Sequential()\n",
    "    decoder.add(InputLayer((code_size,)))\n",
    "    decoder.add(keras.layers.Dense(np.prod(img_shape))) # np.prod(img_shape) is the same as 32*32*3, it's more generic than saying 3072\n",
    "    decoder.add(keras.layers.Reshape(img_shape))\n",
    "\n",
    "    return encoder, decoder"
   ]
  },
  {
   "cell_type": "code",
   "execution_count": 339,
   "metadata": {
    "colab": {
     "base_uri": "https://localhost:8080/",
     "height": 34
    },
    "colab_type": "code",
    "executionInfo": {
     "elapsed": 993,
     "status": "ok",
     "timestamp": 1581730180736,
     "user": {
      "displayName": "MSTF OS2R3H",
      "photoUrl": "",
      "userId": "16205853626530655680"
     },
     "user_tz": 480
    },
    "id": "1Q7VrLpWGuEk",
    "outputId": "8e257adc-8cb7-467c-f0aa-43a5c7dabfa9"
   },
   "outputs": [
    {
     "data": {
      "text/plain": [
       "(2400, 28, 28, 3)"
      ]
     },
     "execution_count": 339,
     "metadata": {
      "tags": []
     },
     "output_type": "execute_result"
    }
   ],
   "source": [
    "X_train.shape"
   ]
  },
  {
   "cell_type": "code",
   "execution_count": 340,
   "metadata": {
    "colab": {
     "base_uri": "https://localhost:8080/",
     "height": 272
    },
    "colab_type": "code",
    "executionInfo": {
     "elapsed": 1197,
     "status": "ok",
     "timestamp": 1581730182476,
     "user": {
      "displayName": "MSTF OS2R3H",
      "photoUrl": "",
      "userId": "16205853626530655680"
     },
     "user_tz": 480
    },
    "id": "PlFza2xtGwkV",
    "outputId": "1d278d9f-daef-4f76-d5db-529c64b8dae9"
   },
   "outputs": [
    {
     "name": "stdout",
     "output_type": "stream",
     "text": [
      "Model: \"model_51\"\n",
      "_________________________________________________________________\n",
      "Layer (type)                 Output Shape              Param #   \n",
      "=================================================================\n",
      "input_138 (InputLayer)       [(None, 28, 28, 3)]       0         \n",
      "_________________________________________________________________\n",
      "sequential_90 (Sequential)   (None, 1000)              2353000   \n",
      "_________________________________________________________________\n",
      "sequential_91 (Sequential)   (None, 28, 28, 3)         2354352   \n",
      "=================================================================\n",
      "Total params: 4,707,352\n",
      "Trainable params: 4,707,352\n",
      "Non-trainable params: 0\n",
      "_________________________________________________________________\n",
      "None\n"
     ]
    }
   ],
   "source": [
    "# Same as (28,28,3), we neglect the number of instances from shape\n",
    "IMG_SHAPE = X_train.shape[1:]\n",
    "encoder, decoder = build_autoencoder(IMG_SHAPE, 1000)\n",
    "\n",
    "inp = keras.Input(IMG_SHAPE)\n",
    "code = encoder(inp)\n",
    "reconstruction = decoder(code)\n",
    "\n",
    "autoencoder = keras.models.Model(inp,reconstruction)\n",
    "autoencoder.compile(optimizer='adamax', loss='mse',metrics=['accuracy'])\n",
    "\n",
    "print(autoencoder.summary())"
   ]
  },
  {
   "cell_type": "code",
   "execution_count": 341,
   "metadata": {
    "colab": {
     "base_uri": "https://localhost:8080/",
     "height": 1000
    },
    "colab_type": "code",
    "executionInfo": {
     "elapsed": 254330,
     "status": "ok",
     "timestamp": 1581730437977,
     "user": {
      "displayName": "MSTF OS2R3H",
      "photoUrl": "",
      "userId": "16205853626530655680"
     },
     "user_tz": 480
    },
    "id": "Z5FljF1wH4qr",
    "outputId": "071b130f-77df-4cf0-dc27-ee3c45a056d8"
   },
   "outputs": [
    {
     "name": "stdout",
     "output_type": "stream",
     "text": [
      "Train on 2400 samples, validate on 800 samples\n",
      "Epoch 1/50\n",
      "2400/2400 [==============================] - 5s 2ms/sample - loss: 0.0819 - accuracy: 0.3603 - val_loss: 0.0528 - val_accuracy: 0.3716\n",
      "Epoch 2/50\n",
      "2400/2400 [==============================] - 5s 2ms/sample - loss: 0.0462 - accuracy: 0.3766 - val_loss: 0.0422 - val_accuracy: 0.3825\n",
      "Epoch 3/50\n",
      "2400/2400 [==============================] - 5s 2ms/sample - loss: 0.0375 - accuracy: 0.3880 - val_loss: 0.0361 - val_accuracy: 0.3908\n",
      "Epoch 4/50\n",
      "2400/2400 [==============================] - 5s 2ms/sample - loss: 0.0321 - accuracy: 0.3985 - val_loss: 0.0319 - val_accuracy: 0.4001\n",
      "Epoch 5/50\n",
      "2400/2400 [==============================] - 5s 2ms/sample - loss: 0.0281 - accuracy: 0.4090 - val_loss: 0.0287 - val_accuracy: 0.4102\n",
      "Epoch 6/50\n",
      "2400/2400 [==============================] - 5s 2ms/sample - loss: 0.0249 - accuracy: 0.4177 - val_loss: 0.0260 - val_accuracy: 0.4211\n",
      "Epoch 7/50\n",
      "2400/2400 [==============================] - 5s 2ms/sample - loss: 0.0224 - accuracy: 0.4265 - val_loss: 0.0239 - val_accuracy: 0.4259\n",
      "Epoch 8/50\n",
      "2400/2400 [==============================] - 5s 2ms/sample - loss: 0.0203 - accuracy: 0.4346 - val_loss: 0.0219 - val_accuracy: 0.4333\n",
      "Epoch 9/50\n",
      "2400/2400 [==============================] - 5s 2ms/sample - loss: 0.0184 - accuracy: 0.4424 - val_loss: 0.0204 - val_accuracy: 0.4380\n",
      "Epoch 10/50\n",
      "2400/2400 [==============================] - 5s 2ms/sample - loss: 0.0169 - accuracy: 0.4500 - val_loss: 0.0188 - val_accuracy: 0.4455\n",
      "Epoch 11/50\n",
      "2400/2400 [==============================] - 5s 2ms/sample - loss: 0.0154 - accuracy: 0.4579 - val_loss: 0.0176 - val_accuracy: 0.4489\n",
      "Epoch 12/50\n",
      "2400/2400 [==============================] - 5s 2ms/sample - loss: 0.0142 - accuracy: 0.4649 - val_loss: 0.0169 - val_accuracy: 0.4559\n",
      "Epoch 13/50\n",
      "2400/2400 [==============================] - 5s 2ms/sample - loss: 0.0132 - accuracy: 0.4726 - val_loss: 0.0158 - val_accuracy: 0.4648\n",
      "Epoch 14/50\n",
      "2400/2400 [==============================] - 5s 2ms/sample - loss: 0.0120 - accuracy: 0.4806 - val_loss: 0.0143 - val_accuracy: 0.4645\n",
      "Epoch 15/50\n",
      "2400/2400 [==============================] - 5s 2ms/sample - loss: 0.0111 - accuracy: 0.4881 - val_loss: 0.0136 - val_accuracy: 0.4698\n",
      "Epoch 16/50\n",
      "2400/2400 [==============================] - 5s 2ms/sample - loss: 0.0106 - accuracy: 0.4945 - val_loss: 0.0127 - val_accuracy: 0.4878\n",
      "Epoch 17/50\n",
      "2400/2400 [==============================] - 5s 2ms/sample - loss: 0.0095 - accuracy: 0.5036 - val_loss: 0.0120 - val_accuracy: 0.4875\n",
      "Epoch 18/50\n",
      "2400/2400 [==============================] - 5s 2ms/sample - loss: 0.0088 - accuracy: 0.5112 - val_loss: 0.0113 - val_accuracy: 0.4943\n",
      "Epoch 19/50\n",
      "2400/2400 [==============================] - 5s 2ms/sample - loss: 0.0085 - accuracy: 0.5176 - val_loss: 0.0108 - val_accuracy: 0.5022\n",
      "Epoch 20/50\n",
      "2400/2400 [==============================] - 5s 2ms/sample - loss: 0.0078 - accuracy: 0.5224 - val_loss: 0.0103 - val_accuracy: 0.5047\n",
      "Epoch 21/50\n",
      "2400/2400 [==============================] - 5s 2ms/sample - loss: 0.0073 - accuracy: 0.5308 - val_loss: 0.0098 - val_accuracy: 0.5072\n",
      "Epoch 22/50\n",
      "2400/2400 [==============================] - 5s 2ms/sample - loss: 0.0068 - accuracy: 0.5368 - val_loss: 0.0091 - val_accuracy: 0.5194\n",
      "Epoch 23/50\n",
      "2400/2400 [==============================] - 5s 2ms/sample - loss: 0.0064 - accuracy: 0.5432 - val_loss: 0.0087 - val_accuracy: 0.5236\n",
      "Epoch 24/50\n",
      "2400/2400 [==============================] - 5s 2ms/sample - loss: 0.0059 - accuracy: 0.5525 - val_loss: 0.0082 - val_accuracy: 0.5334\n",
      "Epoch 25/50\n",
      "2400/2400 [==============================] - 5s 2ms/sample - loss: 0.0055 - accuracy: 0.5582 - val_loss: 0.0077 - val_accuracy: 0.5378\n",
      "Epoch 26/50\n",
      "2400/2400 [==============================] - 5s 2ms/sample - loss: 0.0053 - accuracy: 0.5639 - val_loss: 0.0075 - val_accuracy: 0.5285\n",
      "Epoch 27/50\n",
      "2400/2400 [==============================] - 5s 2ms/sample - loss: 0.0050 - accuracy: 0.5708 - val_loss: 0.0072 - val_accuracy: 0.5486\n",
      "Epoch 28/50\n",
      "2400/2400 [==============================] - 5s 2ms/sample - loss: 0.0046 - accuracy: 0.5773 - val_loss: 0.0068 - val_accuracy: 0.5483\n",
      "Epoch 29/50\n",
      "2400/2400 [==============================] - 5s 2ms/sample - loss: 0.0044 - accuracy: 0.5834 - val_loss: 0.0067 - val_accuracy: 0.5605\n",
      "Epoch 30/50\n",
      "2400/2400 [==============================] - 5s 2ms/sample - loss: 0.0042 - accuracy: 0.5890 - val_loss: 0.0061 - val_accuracy: 0.5602\n",
      "Epoch 31/50\n",
      "2400/2400 [==============================] - 5s 2ms/sample - loss: 0.0038 - accuracy: 0.5977 - val_loss: 0.0059 - val_accuracy: 0.5708\n",
      "Epoch 32/50\n",
      "2400/2400 [==============================] - 5s 2ms/sample - loss: 0.0037 - accuracy: 0.6022 - val_loss: 0.0056 - val_accuracy: 0.5614\n",
      "Epoch 33/50\n",
      "2400/2400 [==============================] - 5s 2ms/sample - loss: 0.0035 - accuracy: 0.6075 - val_loss: 0.0055 - val_accuracy: 0.5704\n",
      "Epoch 34/50\n",
      "2400/2400 [==============================] - 5s 2ms/sample - loss: 0.0033 - accuracy: 0.6124 - val_loss: 0.0053 - val_accuracy: 0.5652\n",
      "Epoch 35/50\n",
      "2400/2400 [==============================] - 5s 2ms/sample - loss: 0.0032 - accuracy: 0.6180 - val_loss: 0.0050 - val_accuracy: 0.5820\n",
      "Epoch 36/50\n",
      "2400/2400 [==============================] - 5s 2ms/sample - loss: 0.0031 - accuracy: 0.6227 - val_loss: 0.0050 - val_accuracy: 0.5900\n",
      "Epoch 37/50\n",
      "2400/2400 [==============================] - 5s 2ms/sample - loss: 0.0029 - accuracy: 0.6278 - val_loss: 0.0047 - val_accuracy: 0.5866\n",
      "Epoch 38/50\n",
      "2400/2400 [==============================] - 5s 2ms/sample - loss: 0.0028 - accuracy: 0.6333 - val_loss: 0.0046 - val_accuracy: 0.5875\n",
      "Epoch 39/50\n",
      "2400/2400 [==============================] - 5s 2ms/sample - loss: 0.0026 - accuracy: 0.6376 - val_loss: 0.0044 - val_accuracy: 0.5930\n",
      "Epoch 40/50\n",
      "2400/2400 [==============================] - 5s 2ms/sample - loss: 0.0026 - accuracy: 0.6406 - val_loss: 0.0042 - val_accuracy: 0.6018\n",
      "Epoch 41/50\n",
      "2400/2400 [==============================] - 5s 2ms/sample - loss: 0.0025 - accuracy: 0.6450 - val_loss: 0.0043 - val_accuracy: 0.5931\n",
      "Epoch 42/50\n",
      "2400/2400 [==============================] - 5s 2ms/sample - loss: 0.0023 - accuracy: 0.6502 - val_loss: 0.0040 - val_accuracy: 0.6065\n",
      "Epoch 43/50\n",
      "2400/2400 [==============================] - 5s 2ms/sample - loss: 0.0023 - accuracy: 0.6543 - val_loss: 0.0040 - val_accuracy: 0.6108\n",
      "Epoch 44/50\n",
      "2400/2400 [==============================] - 5s 2ms/sample - loss: 0.0022 - accuracy: 0.6575 - val_loss: 0.0037 - val_accuracy: 0.6072\n",
      "Epoch 45/50\n",
      "2400/2400 [==============================] - 5s 2ms/sample - loss: 0.0022 - accuracy: 0.6611 - val_loss: 0.0036 - val_accuracy: 0.6157\n",
      "Epoch 46/50\n",
      "2400/2400 [==============================] - 5s 2ms/sample - loss: 0.0021 - accuracy: 0.6635 - val_loss: 0.0037 - val_accuracy: 0.6184\n",
      "Epoch 47/50\n",
      "2400/2400 [==============================] - 5s 2ms/sample - loss: 0.0021 - accuracy: 0.6650 - val_loss: 0.0035 - val_accuracy: 0.6295\n",
      "Epoch 48/50\n",
      "2400/2400 [==============================] - 5s 2ms/sample - loss: 0.0020 - accuracy: 0.6703 - val_loss: 0.0033 - val_accuracy: 0.6244\n",
      "Epoch 49/50\n",
      "2400/2400 [==============================] - 5s 2ms/sample - loss: 0.0019 - accuracy: 0.6731 - val_loss: 0.0034 - val_accuracy: 0.6318\n",
      "Epoch 50/50\n",
      "2400/2400 [==============================] - 5s 2ms/sample - loss: 0.0019 - accuracy: 0.6754 - val_loss: 0.0032 - val_accuracy: 0.6261\n"
     ]
    }
   ],
   "source": [
    "# Fit model and run\n",
    "\n",
    "history = autoencoder.fit(x=X_train, y=X_train,\n",
    "                         steps_per_epoch= 120,  #number train_images/batch size(2400/20)\n",
    "                         epochs=50,\n",
    "                         validation_data=[X_test, X_test],\n",
    "                         validation_steps=40, #number valid_images/batch_size(800/20)\n",
    "                         shuffle=True\n",
    "                         )"
   ]
  },
  {
   "cell_type": "code",
   "execution_count": 342,
   "metadata": {
    "colab": {
     "base_uri": "https://localhost:8080/",
     "height": 295
    },
    "colab_type": "code",
    "executionInfo": {
     "elapsed": 1108,
     "status": "ok",
     "timestamp": 1581730450049,
     "user": {
      "displayName": "MSTF OS2R3H",
      "photoUrl": "",
      "userId": "16205853626530655680"
     },
     "user_tz": 480
    },
    "id": "SaBAckF8I2Ma",
    "outputId": "ef09d664-8741-4035-c23c-7b2f12d9d7d3"
   },
   "outputs": [
    {
     "data": {
      "image/png": "[encoded data removed]",
      "text/plain": [
       "<Figure size 432x288 with 1 Axes>"
      ]
     },
     "metadata": {
      "tags": []
     },
     "output_type": "display_data"
    }
   ],
   "source": [
    "plt.plot(history.history['loss'])\n",
    "plt.plot(history.history['val_loss'])\n",
    "plt.title('model loss')\n",
    "plt.ylabel('loss')\n",
    "plt.xlabel('epoch')\n",
    "plt.legend(['train', 'test'], loc='upper left')\n",
    "plt.show()"
   ]
  },
  {
   "cell_type": "code",
   "execution_count": null,
   "metadata": {
    "colab": {},
    "colab_type": "code",
    "id": "Voa-RDi-KbDf"
   },
   "outputs": [],
   "source": [
    "import matplotlib.pyplot as plt\n",
    "def show_image(x):\n",
    "    plt.imshow(np.clip(x + 0.5, 0, 1))"
   ]
  },
  {
   "cell_type": "code",
   "execution_count": 344,
   "metadata": {
    "colab": {
     "base_uri": "https://localhost:8080/",
     "height": 1000
    },
    "colab_type": "code",
    "executionInfo": {
     "elapsed": 3720,
     "status": "ok",
     "timestamp": 1581730462322,
     "user": {
      "displayName": "MSTF OS2R3H",
      "photoUrl": "",
      "userId": "16205853626530655680"
     },
     "user_tz": 480
    },
    "id": "rfsGJ1EFJcIJ",
    "outputId": "224c5750-99d9-4043-f08d-a6d8fd185a73"
   },
   "outputs": [
    {
     "data": {
      "image/png": "[encoded data removed]",
      "text/plain": [
       "<Figure size 432x288 with 3 Axes>"
      ]
     },
     "metadata": {
      "tags": []
     },
     "output_type": "display_data"
    },
    {
     "data": {
      "image/png": "[encoded data removed]",
      "text/plain": [
       "<Figure size 432x288 with 3 Axes>"
      ]
     },
     "metadata": {
      "tags": []
     },
     "output_type": "display_data"
    },
    {
     "data": {
      "image/png": "[encoded data removed]",
      "text/plain": [
       "<Figure size 432x288 with 3 Axes>"
      ]
     },
     "metadata": {
      "tags": []
     },
     "output_type": "display_data"
    },
    {
     "data": {
      "image/png": "[encoded data removed]",
      "text/plain": [
       "<Figure size 432x288 with 3 Axes>"
      ]
     },
     "metadata": {
      "tags": []
     },
     "output_type": "display_data"
    },
    {
     "data": {
      "image/png": "[encoded data removed]",
      "text/plain": [
       "<Figure size 432x288 with 3 Axes>"
      ]
     },
     "metadata": {
      "tags": []
     },
     "output_type": "display_data"
    }
   ],
   "source": [
    "def visualize(img,encoder,decoder):\n",
    "    \"\"\"Draws original, encoded and decoded images\"\"\"\n",
    "    code = encoder.predict(img[None])[0]\n",
    "    reco = decoder.predict(code[None])[0]\n",
    "\n",
    "    plt.subplot(1,3,1)\n",
    "    plt.title(\"Original\")\n",
    "    show_image(img)\n",
    "\n",
    "    plt.subplot(1,3,2)\n",
    "    plt.title(\"Code\")\n",
    "    plt.imshow(code.reshape([code.shape[-1]//2,-1]))\n",
    "\n",
    "    plt.subplot(1,3,3)\n",
    "    plt.title(\"Reconstructed\")\n",
    "    show_image(reco)\n",
    "    plt.show()\n",
    "\n",
    "for i in range(5):\n",
    "    img = X_test[i]\n",
    "    visualize(img,encoder,decoder)"
   ]
  },
  {
   "cell_type": "code",
   "execution_count": null,
   "metadata": {
    "colab": {},
    "colab_type": "code",
    "id": "M7bsMFY_ZHl5"
   },
   "outputs": [],
   "source": [
    "#Image Denoising\n",
    "\n",
    "def apply_gaussian_noise(X_train, sigma=0.1):\n",
    "    noise = np.random.normal(loc=0.0, scale=sigma, size=X_train.shape)\n",
    "    return X_train + noise\n",
    "\n",
    "def apply_gaussian_noise(X_test, sigma=0.1):\n",
    "    noise = np.random.normal(loc=0.0, scale=sigma, size=X_test.shape)\n",
    "    return X_test + noise"
   ]
  },
  {
   "cell_type": "code",
   "execution_count": 347,
   "metadata": {
    "colab": {
     "base_uri": "https://localhost:8080/",
     "height": 123
    },
    "colab_type": "code",
    "executionInfo": {
     "elapsed": 1606,
     "status": "ok",
     "timestamp": 1581730748447,
     "user": {
      "displayName": "MSTF OS2R3H",
      "photoUrl": "",
      "userId": "16205853626530655680"
     },
     "user_tz": 480
    },
    "id": "3maSsR1Kf8ao",
    "outputId": "35ae8458-17ea-4bc9-8fe6-354682369523"
   },
   "outputs": [
    {
     "data": {
      "image/png": "[encoded data removed]",
      "text/plain": [
       "<Figure size 432x288 with 4 Axes>"
      ]
     },
     "metadata": {
      "tags": []
     },
     "output_type": "display_data"
    }
   ],
   "source": [
    "#Show Image with Noise\n",
    "plt.subplot(1,4,1)\n",
    "show_image(X_train[0])\n",
    "plt.subplot(1,4,2)\n",
    "show_image(apply_gaussian_noise(X_train[:1],sigma=0.01)[0])\n",
    "plt.subplot(1,4,3)\n",
    "show_image(apply_gaussian_noise(X_train[:1],sigma=0.1)[0])\n",
    "plt.subplot(1,4,4)\n",
    "show_image(apply_gaussian_noise(X_train[:1],sigma=0.5)[0])"
   ]
  },
  {
   "cell_type": "code",
   "execution_count": 353,
   "metadata": {
    "colab": {
     "base_uri": "https://localhost:8080/",
     "height": 1000
    },
    "colab_type": "code",
    "executionInfo": {
     "elapsed": 156133,
     "status": "ok",
     "timestamp": 1581731423179,
     "user": {
      "displayName": "MSTF OS2R3H",
      "photoUrl": "",
      "userId": "16205853626530655680"
     },
     "user_tz": 480
    },
    "id": "vFZzOFX4gQSt",
    "outputId": "7e479a34-80cd-4dc4-a621-62e3cc2cdb0d"
   },
   "outputs": [
    {
     "name": "stdout",
     "output_type": "stream",
     "text": [
      "Model: \"model_54\"\n",
      "_________________________________________________________________\n",
      "Layer (type)                 Output Shape              Param #   \n",
      "=================================================================\n",
      "input_149 (InputLayer)       [(None, 28, 28, 3)]       0         \n",
      "_________________________________________________________________\n",
      "sequential_98 (Sequential)   (None, 100)               235300    \n",
      "_________________________________________________________________\n",
      "sequential_99 (Sequential)   (None, 28, 28, 3)         237552    \n",
      "=================================================================\n",
      "Total params: 472,852\n",
      "Trainable params: 472,852\n",
      "Non-trainable params: 0\n",
      "_________________________________________________________________\n",
      "None\n",
      "Epoch 1/25, Generating corrupted samples...\n",
      "Train on 2400 samples, validate on 800 samples\n",
      "Epoch 1/5\n",
      "2400/2400 [==============================] - 1s 604us/sample - loss: 0.0744 - accuracy: 0.3792 - val_loss: 0.0552 - val_accuracy: 0.3928\n",
      "Epoch 2/5\n",
      "2400/2400 [==============================] - 1s 457us/sample - loss: 0.0505 - accuracy: 0.3920 - val_loss: 0.0460 - val_accuracy: 0.3952\n",
      "Epoch 3/5\n",
      "2400/2400 [==============================] - 1s 477us/sample - loss: 0.0436 - accuracy: 0.4025 - val_loss: 0.0413 - val_accuracy: 0.4029\n",
      "Epoch 4/5\n",
      "2400/2400 [==============================] - 1s 462us/sample - loss: 0.0396 - accuracy: 0.4093 - val_loss: 0.0380 - val_accuracy: 0.4162\n",
      "Epoch 5/5\n",
      "2400/2400 [==============================] - 1s 478us/sample - loss: 0.0363 - accuracy: 0.4169 - val_loss: 0.0352 - val_accuracy: 0.4199\n",
      "Epoch 2/25, Generating corrupted samples...\n",
      "Train on 2400 samples, validate on 800 samples\n",
      "Epoch 1/5\n",
      "2400/2400 [==============================] - 1s 484us/sample - loss: 0.0337 - accuracy: 0.4258 - val_loss: 0.0330 - val_accuracy: 0.4272\n",
      "Epoch 2/5\n",
      "2400/2400 [==============================] - 1s 480us/sample - loss: 0.0317 - accuracy: 0.4353 - val_loss: 0.0312 - val_accuracy: 0.4360\n",
      "Epoch 3/5\n",
      "2400/2400 [==============================] - 1s 483us/sample - loss: 0.0299 - accuracy: 0.4455 - val_loss: 0.0296 - val_accuracy: 0.4462\n",
      "Epoch 4/5\n",
      "2400/2400 [==============================] - 1s 472us/sample - loss: 0.0283 - accuracy: 0.4555 - val_loss: 0.0282 - val_accuracy: 0.4536\n",
      "Epoch 5/5\n",
      "2400/2400 [==============================] - 1s 468us/sample - loss: 0.0269 - accuracy: 0.4656 - val_loss: 0.0269 - val_accuracy: 0.4660\n",
      "Epoch 3/25, Generating corrupted samples...\n",
      "Train on 2400 samples, validate on 800 samples\n",
      "Epoch 1/5\n",
      "2400/2400 [==============================] - 1s 474us/sample - loss: 0.0256 - accuracy: 0.4743 - val_loss: 0.0258 - val_accuracy: 0.4634\n",
      "Epoch 2/5\n",
      "2400/2400 [==============================] - 1s 453us/sample - loss: 0.0245 - accuracy: 0.4813 - val_loss: 0.0248 - val_accuracy: 0.4779\n",
      "Epoch 3/5\n",
      "2400/2400 [==============================] - 1s 492us/sample - loss: 0.0236 - accuracy: 0.4887 - val_loss: 0.0240 - val_accuracy: 0.4768\n",
      "Epoch 4/5\n",
      "2400/2400 [==============================] - 1s 485us/sample - loss: 0.0226 - accuracy: 0.4949 - val_loss: 0.0231 - val_accuracy: 0.4876\n",
      "Epoch 5/5\n",
      "2400/2400 [==============================] - 1s 463us/sample - loss: 0.0218 - accuracy: 0.5015 - val_loss: 0.0226 - val_accuracy: 0.5015\n",
      "Epoch 4/25, Generating corrupted samples...\n",
      "Train on 2400 samples, validate on 800 samples\n",
      "Epoch 1/5\n",
      "2400/2400 [==============================] - 1s 452us/sample - loss: 0.0211 - accuracy: 0.5089 - val_loss: 0.0217 - val_accuracy: 0.5136\n",
      "Epoch 2/5\n",
      "2400/2400 [==============================] - 1s 473us/sample - loss: 0.0204 - accuracy: 0.5161 - val_loss: 0.0211 - val_accuracy: 0.5142\n",
      "Epoch 3/5\n",
      "2400/2400 [==============================] - 1s 472us/sample - loss: 0.0198 - accuracy: 0.5233 - val_loss: 0.0207 - val_accuracy: 0.5256\n",
      "Epoch 4/5\n",
      "2400/2400 [==============================] - 1s 477us/sample - loss: 0.0193 - accuracy: 0.5307 - val_loss: 0.0202 - val_accuracy: 0.5288\n",
      "Epoch 5/5\n",
      "2400/2400 [==============================] - 1s 465us/sample - loss: 0.0188 - accuracy: 0.5379 - val_loss: 0.0199 - val_accuracy: 0.5428\n",
      "Epoch 5/25, Generating corrupted samples...\n",
      "Train on 2400 samples, validate on 800 samples\n",
      "Epoch 1/5\n",
      "2400/2400 [==============================] - 1s 490us/sample - loss: 0.0185 - accuracy: 0.5440 - val_loss: 0.0196 - val_accuracy: 0.5383\n",
      "Epoch 2/5\n",
      "2400/2400 [==============================] - 1s 488us/sample - loss: 0.0181 - accuracy: 0.5501 - val_loss: 0.0192 - val_accuracy: 0.5469\n",
      "Epoch 3/5\n",
      "2400/2400 [==============================] - 1s 480us/sample - loss: 0.0178 - accuracy: 0.5554 - val_loss: 0.0190 - val_accuracy: 0.5524\n",
      "Epoch 4/5\n",
      "2400/2400 [==============================] - 1s 473us/sample - loss: 0.0175 - accuracy: 0.5611 - val_loss: 0.0186 - val_accuracy: 0.5549\n",
      "Epoch 5/5\n",
      "2400/2400 [==============================] - 1s 480us/sample - loss: 0.0173 - accuracy: 0.5675 - val_loss: 0.0185 - val_accuracy: 0.5603\n",
      "Epoch 6/25, Generating corrupted samples...\n",
      "Train on 2400 samples, validate on 800 samples\n",
      "Epoch 1/5\n",
      "2400/2400 [==============================] - 1s 464us/sample - loss: 0.0171 - accuracy: 0.5725 - val_loss: 0.0183 - val_accuracy: 0.5738\n",
      "Epoch 2/5\n",
      "2400/2400 [==============================] - 1s 471us/sample - loss: 0.0168 - accuracy: 0.5785 - val_loss: 0.0181 - val_accuracy: 0.5774\n",
      "Epoch 3/5\n",
      "2400/2400 [==============================] - 1s 459us/sample - loss: 0.0167 - accuracy: 0.5822 - val_loss: 0.0181 - val_accuracy: 0.5761\n",
      "Epoch 4/5\n",
      "2400/2400 [==============================] - 1s 471us/sample - loss: 0.0165 - accuracy: 0.5865 - val_loss: 0.0178 - val_accuracy: 0.5865\n",
      "Epoch 5/5\n",
      "2400/2400 [==============================] - 1s 472us/sample - loss: 0.0163 - accuracy: 0.5911 - val_loss: 0.0180 - val_accuracy: 0.5835\n",
      "Epoch 7/25, Generating corrupted samples...\n",
      "Train on 2400 samples, validate on 800 samples\n",
      "Epoch 1/5\n",
      "2400/2400 [==============================] - 1s 485us/sample - loss: 0.0163 - accuracy: 0.5941 - val_loss: 0.0176 - val_accuracy: 0.5948\n",
      "Epoch 2/5\n",
      "2400/2400 [==============================] - 1s 473us/sample - loss: 0.0161 - accuracy: 0.5984 - val_loss: 0.0175 - val_accuracy: 0.5983\n",
      "Epoch 3/5\n",
      "2400/2400 [==============================] - 1s 484us/sample - loss: 0.0162 - accuracy: 0.6023 - val_loss: 0.0173 - val_accuracy: 0.5964\n",
      "Epoch 4/5\n",
      "2400/2400 [==============================] - 1s 477us/sample - loss: 0.0158 - accuracy: 0.6052 - val_loss: 0.0173 - val_accuracy: 0.6023\n",
      "Epoch 5/5\n",
      "2400/2400 [==============================] - 1s 468us/sample - loss: 0.0158 - accuracy: 0.6091 - val_loss: 0.0172 - val_accuracy: 0.6022\n",
      "Epoch 8/25, Generating corrupted samples...\n",
      "Train on 2400 samples, validate on 800 samples\n",
      "Epoch 1/5\n",
      "2400/2400 [==============================] - 1s 444us/sample - loss: 0.0157 - accuracy: 0.6119 - val_loss: 0.0172 - val_accuracy: 0.6090\n",
      "Epoch 2/5\n",
      "2400/2400 [==============================] - 1s 471us/sample - loss: 0.0156 - accuracy: 0.6144 - val_loss: 0.0171 - val_accuracy: 0.5999\n",
      "Epoch 3/5\n",
      "2400/2400 [==============================] - 1s 496us/sample - loss: 0.0156 - accuracy: 0.6164 - val_loss: 0.0171 - val_accuracy: 0.6082\n",
      "Epoch 4/5\n",
      "2400/2400 [==============================] - 1s 480us/sample - loss: 0.0156 - accuracy: 0.6180 - val_loss: 0.0170 - val_accuracy: 0.6180\n",
      "Epoch 5/5\n",
      "2400/2400 [==============================] - 1s 464us/sample - loss: 0.0156 - accuracy: 0.6221 - val_loss: 0.0170 - val_accuracy: 0.6127\n",
      "Epoch 9/25, Generating corrupted samples...\n",
      "Train on 2400 samples, validate on 800 samples\n",
      "Epoch 1/5\n",
      "2400/2400 [==============================] - 1s 460us/sample - loss: 0.0155 - accuracy: 0.6221 - val_loss: 0.0169 - val_accuracy: 0.6254\n",
      "Epoch 2/5\n",
      "2400/2400 [==============================] - 1s 484us/sample - loss: 0.0154 - accuracy: 0.6258 - val_loss: 0.0171 - val_accuracy: 0.6056\n",
      "Epoch 3/5\n",
      "2400/2400 [==============================] - 1s 456us/sample - loss: 0.0155 - accuracy: 0.6241 - val_loss: 0.0168 - val_accuracy: 0.6233\n",
      "Epoch 4/5\n",
      "2400/2400 [==============================] - 1s 453us/sample - loss: 0.0153 - accuracy: 0.6284 - val_loss: 0.0168 - val_accuracy: 0.6219\n",
      "Epoch 5/5\n",
      "2400/2400 [==============================] - 1s 458us/sample - loss: 0.0153 - accuracy: 0.6288 - val_loss: 0.0168 - val_accuracy: 0.6258\n",
      "Epoch 10/25, Generating corrupted samples...\n",
      "Train on 2400 samples, validate on 800 samples\n",
      "Epoch 1/5\n",
      "2400/2400 [==============================] - 1s 469us/sample - loss: 0.0153 - accuracy: 0.6293 - val_loss: 0.0168 - val_accuracy: 0.6202\n",
      "Epoch 2/5\n",
      "2400/2400 [==============================] - 1s 489us/sample - loss: 0.0153 - accuracy: 0.6312 - val_loss: 0.0168 - val_accuracy: 0.6291\n",
      "Epoch 3/5\n",
      "2400/2400 [==============================] - 1s 471us/sample - loss: 0.0152 - accuracy: 0.6327 - val_loss: 0.0167 - val_accuracy: 0.6238\n",
      "Epoch 4/5\n",
      "2400/2400 [==============================] - 1s 467us/sample - loss: 0.0152 - accuracy: 0.6327 - val_loss: 0.0166 - val_accuracy: 0.6267\n",
      "Epoch 5/5\n",
      "2400/2400 [==============================] - 1s 471us/sample - loss: 0.0152 - accuracy: 0.6339 - val_loss: 0.0168 - val_accuracy: 0.6288\n",
      "Epoch 11/25, Generating corrupted samples...\n",
      "Train on 2400 samples, validate on 800 samples\n",
      "Epoch 1/5\n",
      "2400/2400 [==============================] - 1s 465us/sample - loss: 0.0153 - accuracy: 0.6341 - val_loss: 0.0167 - val_accuracy: 0.6287\n",
      "Epoch 2/5\n",
      "2400/2400 [==============================] - 1s 464us/sample - loss: 0.0151 - accuracy: 0.6353 - val_loss: 0.0166 - val_accuracy: 0.6337\n",
      "Epoch 3/5\n",
      "2400/2400 [==============================] - 1s 466us/sample - loss: 0.0151 - accuracy: 0.6373 - val_loss: 0.0166 - val_accuracy: 0.6232\n",
      "Epoch 4/5\n",
      "2400/2400 [==============================] - 1s 464us/sample - loss: 0.0151 - accuracy: 0.6357 - val_loss: 0.0165 - val_accuracy: 0.6309\n",
      "Epoch 5/5\n",
      "2400/2400 [==============================] - 1s 479us/sample - loss: 0.0152 - accuracy: 0.6369 - val_loss: 0.0166 - val_accuracy: 0.6317\n",
      "Epoch 12/25, Generating corrupted samples...\n",
      "Train on 2400 samples, validate on 800 samples\n",
      "Epoch 1/5\n",
      "2400/2400 [==============================] - 1s 484us/sample - loss: 0.0151 - accuracy: 0.6375 - val_loss: 0.0165 - val_accuracy: 0.6291\n",
      "Epoch 2/5\n",
      "2400/2400 [==============================] - 1s 475us/sample - loss: 0.0150 - accuracy: 0.6377 - val_loss: 0.0165 - val_accuracy: 0.6207\n",
      "Epoch 3/5\n",
      "2400/2400 [==============================] - 1s 482us/sample - loss: 0.0150 - accuracy: 0.6378 - val_loss: 0.0165 - val_accuracy: 0.6317\n",
      "Epoch 4/5\n",
      "2400/2400 [==============================] - 1s 469us/sample - loss: 0.0151 - accuracy: 0.6381 - val_loss: 0.0165 - val_accuracy: 0.6335\n",
      "Epoch 5/5\n",
      "2400/2400 [==============================] - 1s 488us/sample - loss: 0.0151 - accuracy: 0.6381 - val_loss: 0.0165 - val_accuracy: 0.6288\n",
      "Epoch 13/25, Generating corrupted samples...\n",
      "Train on 2400 samples, validate on 800 samples\n",
      "Epoch 1/5\n",
      "2400/2400 [==============================] - 1s 471us/sample - loss: 0.0150 - accuracy: 0.6397 - val_loss: 0.0164 - val_accuracy: 0.6300\n",
      "Epoch 2/5\n",
      "2400/2400 [==============================] - 1s 480us/sample - loss: 0.0151 - accuracy: 0.6393 - val_loss: 0.0164 - val_accuracy: 0.6340\n",
      "Epoch 3/5\n",
      "2400/2400 [==============================] - 1s 481us/sample - loss: 0.0150 - accuracy: 0.6390 - val_loss: 0.0164 - val_accuracy: 0.6338\n",
      "Epoch 4/5\n",
      "2400/2400 [==============================] - 1s 497us/sample - loss: 0.0150 - accuracy: 0.6396 - val_loss: 0.0165 - val_accuracy: 0.6319\n",
      "Epoch 5/5\n",
      "2400/2400 [==============================] - 1s 476us/sample - loss: 0.0151 - accuracy: 0.6382 - val_loss: 0.0165 - val_accuracy: 0.6384\n",
      "Epoch 14/25, Generating corrupted samples...\n",
      "Train on 2400 samples, validate on 800 samples\n",
      "Epoch 1/5\n",
      "2400/2400 [==============================] - 1s 475us/sample - loss: 0.0149 - accuracy: 0.6406 - val_loss: 0.0165 - val_accuracy: 0.6279\n",
      "Epoch 2/5\n",
      "2400/2400 [==============================] - 1s 488us/sample - loss: 0.0149 - accuracy: 0.6396 - val_loss: 0.0164 - val_accuracy: 0.6305\n",
      "Epoch 3/5\n",
      "2400/2400 [==============================] - 1s 480us/sample - loss: 0.0150 - accuracy: 0.6402 - val_loss: 0.0165 - val_accuracy: 0.6309\n",
      "Epoch 4/5\n",
      "2400/2400 [==============================] - 1s 473us/sample - loss: 0.0149 - accuracy: 0.6404 - val_loss: 0.0164 - val_accuracy: 0.6277\n",
      "Epoch 5/5\n",
      "2400/2400 [==============================] - 1s 478us/sample - loss: 0.0149 - accuracy: 0.6403 - val_loss: 0.0166 - val_accuracy: 0.6362\n",
      "Epoch 15/25, Generating corrupted samples...\n",
      "Train on 2400 samples, validate on 800 samples\n",
      "Epoch 1/5\n",
      "2400/2400 [==============================] - 1s 501us/sample - loss: 0.0150 - accuracy: 0.6408 - val_loss: 0.0164 - val_accuracy: 0.6328\n",
      "Epoch 2/5\n",
      "2400/2400 [==============================] - 1s 526us/sample - loss: 0.0149 - accuracy: 0.6412 - val_loss: 0.0165 - val_accuracy: 0.6335\n",
      "Epoch 3/5\n",
      "2400/2400 [==============================] - 1s 540us/sample - loss: 0.0150 - accuracy: 0.6398 - val_loss: 0.0163 - val_accuracy: 0.6317\n",
      "Epoch 4/5\n",
      "2400/2400 [==============================] - 1s 559us/sample - loss: 0.0149 - accuracy: 0.6409 - val_loss: 0.0164 - val_accuracy: 0.6312\n",
      "Epoch 5/5\n",
      "2400/2400 [==============================] - 1s 545us/sample - loss: 0.0150 - accuracy: 0.6401 - val_loss: 0.0169 - val_accuracy: 0.6355\n",
      "Epoch 16/25, Generating corrupted samples...\n",
      "Train on 2400 samples, validate on 800 samples\n",
      "Epoch 1/5\n",
      "2400/2400 [==============================] - 1s 565us/sample - loss: 0.0149 - accuracy: 0.6412 - val_loss: 0.0164 - val_accuracy: 0.6290\n",
      "Epoch 2/5\n",
      "2400/2400 [==============================] - 1s 538us/sample - loss: 0.0148 - accuracy: 0.6415 - val_loss: 0.0163 - val_accuracy: 0.6321\n",
      "Epoch 3/5\n",
      "2400/2400 [==============================] - 1s 501us/sample - loss: 0.0148 - accuracy: 0.6414 - val_loss: 0.0163 - val_accuracy: 0.6345\n",
      "Epoch 4/5\n",
      "2400/2400 [==============================] - 1s 513us/sample - loss: 0.0149 - accuracy: 0.6407 - val_loss: 0.0163 - val_accuracy: 0.6388\n",
      "Epoch 5/5\n",
      "2400/2400 [==============================] - 1s 502us/sample - loss: 0.0149 - accuracy: 0.6414 - val_loss: 0.0163 - val_accuracy: 0.6301\n",
      "Epoch 17/25, Generating corrupted samples...\n",
      "Train on 2400 samples, validate on 800 samples\n",
      "Epoch 1/5\n",
      "2400/2400 [==============================] - 1s 492us/sample - loss: 0.0149 - accuracy: 0.6413 - val_loss: 0.0163 - val_accuracy: 0.6323\n",
      "Epoch 2/5\n",
      "2400/2400 [==============================] - 1s 471us/sample - loss: 0.0149 - accuracy: 0.6408 - val_loss: 0.0164 - val_accuracy: 0.6289\n",
      "Epoch 3/5\n",
      "2400/2400 [==============================] - 1s 478us/sample - loss: 0.0148 - accuracy: 0.6409 - val_loss: 0.0163 - val_accuracy: 0.6333\n",
      "Epoch 4/5\n",
      "2400/2400 [==============================] - 1s 442us/sample - loss: 0.0149 - accuracy: 0.6411 - val_loss: 0.0163 - val_accuracy: 0.6362\n",
      "Epoch 5/5\n",
      "2400/2400 [==============================] - 1s 474us/sample - loss: 0.0149 - accuracy: 0.6414 - val_loss: 0.0163 - val_accuracy: 0.6342\n",
      "Epoch 18/25, Generating corrupted samples...\n",
      "Train on 2400 samples, validate on 800 samples\n",
      "Epoch 1/5\n",
      "2400/2400 [==============================] - 1s 498us/sample - loss: 0.0148 - accuracy: 0.6417 - val_loss: 0.0163 - val_accuracy: 0.6297\n",
      "Epoch 2/5\n",
      "2400/2400 [==============================] - 1s 475us/sample - loss: 0.0148 - accuracy: 0.6413 - val_loss: 0.0163 - val_accuracy: 0.6334\n",
      "Epoch 3/5\n",
      "2400/2400 [==============================] - 1s 503us/sample - loss: 0.0148 - accuracy: 0.6409 - val_loss: 0.0162 - val_accuracy: 0.6396\n",
      "Epoch 4/5\n",
      "2400/2400 [==============================] - 1s 468us/sample - loss: 0.0148 - accuracy: 0.6418 - val_loss: 0.0163 - val_accuracy: 0.6302\n",
      "Epoch 5/5\n",
      "2400/2400 [==============================] - 1s 485us/sample - loss: 0.0148 - accuracy: 0.6413 - val_loss: 0.0162 - val_accuracy: 0.6357\n",
      "Epoch 19/25, Generating corrupted samples...\n",
      "Train on 2400 samples, validate on 800 samples\n",
      "Epoch 1/5\n",
      "2400/2400 [==============================] - 1s 491us/sample - loss: 0.0149 - accuracy: 0.6417 - val_loss: 0.0163 - val_accuracy: 0.6238\n",
      "Epoch 2/5\n",
      "2400/2400 [==============================] - 1s 475us/sample - loss: 0.0149 - accuracy: 0.6409 - val_loss: 0.0163 - val_accuracy: 0.6323\n",
      "Epoch 3/5\n",
      "2400/2400 [==============================] - 1s 475us/sample - loss: 0.0148 - accuracy: 0.6414 - val_loss: 0.0163 - val_accuracy: 0.6297\n",
      "Epoch 4/5\n",
      "2400/2400 [==============================] - 1s 466us/sample - loss: 0.0148 - accuracy: 0.6403 - val_loss: 0.0163 - val_accuracy: 0.6330\n",
      "Epoch 5/5\n",
      "2400/2400 [==============================] - 1s 476us/sample - loss: 0.0148 - accuracy: 0.6415 - val_loss: 0.0162 - val_accuracy: 0.6314\n",
      "Epoch 20/25, Generating corrupted samples...\n",
      "Train on 2400 samples, validate on 800 samples\n",
      "Epoch 1/5\n",
      "2400/2400 [==============================] - 1s 488us/sample - loss: 0.0148 - accuracy: 0.6410 - val_loss: 0.0162 - val_accuracy: 0.6350\n",
      "Epoch 2/5\n",
      "2400/2400 [==============================] - 1s 482us/sample - loss: 0.0149 - accuracy: 0.6419 - val_loss: 0.0163 - val_accuracy: 0.6380\n",
      "Epoch 3/5\n",
      "2400/2400 [==============================] - 1s 475us/sample - loss: 0.0148 - accuracy: 0.6412 - val_loss: 0.0162 - val_accuracy: 0.6352\n",
      "Epoch 4/5\n",
      "2400/2400 [==============================] - 1s 459us/sample - loss: 0.0148 - accuracy: 0.6406 - val_loss: 0.0163 - val_accuracy: 0.6344\n",
      "Epoch 5/5\n",
      "2400/2400 [==============================] - 1s 469us/sample - loss: 0.0148 - accuracy: 0.6412 - val_loss: 0.0162 - val_accuracy: 0.6272\n",
      "Epoch 21/25, Generating corrupted samples...\n",
      "Train on 2400 samples, validate on 800 samples\n",
      "Epoch 1/5\n",
      "2400/2400 [==============================] - 1s 464us/sample - loss: 0.0148 - accuracy: 0.6418 - val_loss: 0.0165 - val_accuracy: 0.6387\n",
      "Epoch 2/5\n",
      "2400/2400 [==============================] - 1s 479us/sample - loss: 0.0148 - accuracy: 0.6423 - val_loss: 0.0162 - val_accuracy: 0.6316\n",
      "Epoch 3/5\n",
      "2400/2400 [==============================] - 1s 475us/sample - loss: 0.0148 - accuracy: 0.6410 - val_loss: 0.0163 - val_accuracy: 0.6235\n",
      "Epoch 4/5\n",
      "2400/2400 [==============================] - 1s 473us/sample - loss: 0.0148 - accuracy: 0.6415 - val_loss: 0.0162 - val_accuracy: 0.6279\n",
      "Epoch 5/5\n",
      "2400/2400 [==============================] - 1s 492us/sample - loss: 0.0148 - accuracy: 0.6410 - val_loss: 0.0163 - val_accuracy: 0.6358\n",
      "Epoch 22/25, Generating corrupted samples...\n",
      "Train on 2400 samples, validate on 800 samples\n",
      "Epoch 1/5\n",
      "2400/2400 [==============================] - 1s 483us/sample - loss: 0.0148 - accuracy: 0.6418 - val_loss: 0.0162 - val_accuracy: 0.6277\n",
      "Epoch 2/5\n",
      "2400/2400 [==============================] - 1s 498us/sample - loss: 0.0148 - accuracy: 0.6410 - val_loss: 0.0162 - val_accuracy: 0.6330\n",
      "Epoch 3/5\n",
      "2400/2400 [==============================] - 1s 479us/sample - loss: 0.0148 - accuracy: 0.6418 - val_loss: 0.0162 - val_accuracy: 0.6343\n",
      "Epoch 4/5\n",
      "2400/2400 [==============================] - 1s 472us/sample - loss: 0.0148 - accuracy: 0.6411 - val_loss: 0.0162 - val_accuracy: 0.6356\n",
      "Epoch 5/5\n",
      "2400/2400 [==============================] - 1s 486us/sample - loss: 0.0147 - accuracy: 0.6414 - val_loss: 0.0162 - val_accuracy: 0.6337\n",
      "Epoch 23/25, Generating corrupted samples...\n",
      "Train on 2400 samples, validate on 800 samples\n",
      "Epoch 1/5\n",
      "2400/2400 [==============================] - 1s 489us/sample - loss: 0.0148 - accuracy: 0.6414 - val_loss: 0.0164 - val_accuracy: 0.6404\n",
      "Epoch 2/5\n",
      "2400/2400 [==============================] - 1s 455us/sample - loss: 0.0148 - accuracy: 0.6421 - val_loss: 0.0163 - val_accuracy: 0.6271\n",
      "Epoch 3/5\n",
      "2400/2400 [==============================] - 1s 468us/sample - loss: 0.0148 - accuracy: 0.6414 - val_loss: 0.0163 - val_accuracy: 0.6354\n",
      "Epoch 4/5\n",
      "2400/2400 [==============================] - 1s 492us/sample - loss: 0.0147 - accuracy: 0.6414 - val_loss: 0.0162 - val_accuracy: 0.6339\n",
      "Epoch 5/5\n",
      "2400/2400 [==============================] - 1s 476us/sample - loss: 0.0147 - accuracy: 0.6417 - val_loss: 0.0162 - val_accuracy: 0.6317\n",
      "Epoch 24/25, Generating corrupted samples...\n",
      "Train on 2400 samples, validate on 800 samples\n",
      "Epoch 1/5\n",
      "2400/2400 [==============================] - 1s 485us/sample - loss: 0.0147 - accuracy: 0.6418 - val_loss: 0.0162 - val_accuracy: 0.6366\n",
      "Epoch 2/5\n",
      "2400/2400 [==============================] - 1s 472us/sample - loss: 0.0147 - accuracy: 0.6413 - val_loss: 0.0163 - val_accuracy: 0.6334\n",
      "Epoch 3/5\n",
      "2400/2400 [==============================] - 1s 486us/sample - loss: 0.0148 - accuracy: 0.6411 - val_loss: 0.0162 - val_accuracy: 0.6379\n",
      "Epoch 4/5\n",
      "2400/2400 [==============================] - 1s 491us/sample - loss: 0.0148 - accuracy: 0.6418 - val_loss: 0.0163 - val_accuracy: 0.6329\n",
      "Epoch 5/5\n",
      "2400/2400 [==============================] - 1s 478us/sample - loss: 0.0148 - accuracy: 0.6406 - val_loss: 0.0162 - val_accuracy: 0.6386\n",
      "Epoch 25/25, Generating corrupted samples...\n",
      "Train on 2400 samples, validate on 800 samples\n",
      "Epoch 1/5\n",
      "2400/2400 [==============================] - 1s 474us/sample - loss: 0.0147 - accuracy: 0.6420 - val_loss: 0.0162 - val_accuracy: 0.6283\n",
      "Epoch 2/5\n",
      "2400/2400 [==============================] - 1s 502us/sample - loss: 0.0147 - accuracy: 0.6409 - val_loss: 0.0164 - val_accuracy: 0.6404\n",
      "Epoch 3/5\n",
      "2400/2400 [==============================] - 1s 472us/sample - loss: 0.0148 - accuracy: 0.6425 - val_loss: 0.0162 - val_accuracy: 0.6327\n",
      "Epoch 4/5\n",
      "2400/2400 [==============================] - 1s 468us/sample - loss: 0.0147 - accuracy: 0.6419 - val_loss: 0.0162 - val_accuracy: 0.6368\n",
      "Epoch 5/5\n",
      "2400/2400 [==============================] - 1s 474us/sample - loss: 0.0148 - accuracy: 0.6414 - val_loss: 0.0162 - val_accuracy: 0.6301\n"
     ]
    }
   ],
   "source": [
    "code_size = 100\n",
    "\n",
    "# We can use bigger code size for better quality\n",
    "encoder, decoder = build_autoencoder(IMG_SHAPE, code_size=code_size)\n",
    "\n",
    "inp = keras.Input(IMG_SHAPE)\n",
    "code = encoder(inp)\n",
    "reconstruction = decoder(code)\n",
    "\n",
    "autoencoder = keras.models.Model(inp, reconstruction)\n",
    "autoencoder.compile('adamax', 'mse',metrics=['accuracy'])\n",
    "\n",
    "print(autoencoder.summary())\n",
    "\n",
    "for i in range(25):\n",
    "    print(\"Epoch %i/25, Generating corrupted samples...\"%(i+1))\n",
    "    X_train_noise = apply_gaussian_noise(X_train)\n",
    "    X_test_noise = apply_gaussian_noise(X_test)\n",
    "\n",
    "# We continue to train our model with new noise-augmented data\n",
    "    autoencoder.fit(x=X_train, y=X_train,\n",
    "                    steps_per_epoch= 120,  #number train_images/batch size(2400/20)\n",
    "                    epochs=5,\n",
    "                    validation_data=[X_test, X_test],\n",
    "                    validation_steps=40, #number valid_images/batch_size(800/20)\n",
    "                    shuffle=True)"
   ]
  },
  {
   "cell_type": "code",
   "execution_count": 354,
   "metadata": {
    "colab": {
     "base_uri": "https://localhost:8080/",
     "height": 1000
    },
    "colab_type": "code",
    "executionInfo": {
     "elapsed": 3482,
     "status": "ok",
     "timestamp": 1581731435988,
     "user": {
      "displayName": "MSTF OS2R3H",
      "photoUrl": "",
      "userId": "16205853626530655680"
     },
     "user_tz": 480
    },
    "id": "c6u90Zg8gjyO",
    "outputId": "0583f97f-d903-4819-98bb-3115ba28bb4c"
   },
   "outputs": [
    {
     "data": {
      "image/png": "[encoded data removed]",
      "text/plain": [
       "<Figure size 432x288 with 3 Axes>"
      ]
     },
     "metadata": {
      "tags": []
     },
     "output_type": "display_data"
    },
    {
     "data": {
      "image/png": "[encoded data removed]",
      "text/plain": [
       "<Figure size 432x288 with 3 Axes>"
      ]
     },
     "metadata": {
      "tags": []
     },
     "output_type": "display_data"
    },
    {
     "data": {
      "image/png": "[encoded data removed]",
      "text/plain": [
       "<Figure size 432x288 with 3 Axes>"
      ]
     },
     "metadata": {
      "tags": []
     },
     "output_type": "display_data"
    },
    {
     "data": {
      "image/png": "[encoded data removed]",
      "text/plain": [
       "<Figure size 432x288 with 3 Axes>"
      ]
     },
     "metadata": {
      "tags": []
     },
     "output_type": "display_data"
    },
    {
     "data": {
      "image/png": "[encoded data removed]",
      "text/plain": [
       "<Figure size 432x288 with 3 Axes>"
      ]
     },
     "metadata": {
      "tags": []
     },
     "output_type": "display_data"
    }
   ],
   "source": [
    "X_test_noise = apply_gaussian_noise(X_test)\n",
    "for i in range(5):\n",
    "    img = X_test_noise[i]\n",
    "    visualize(img,encoder,decoder)"
   ]
  }
 ],
 "metadata": {
  "accelerator": "TPU",
  "colab": {
   "authorship_tag": "ABX9TyOtqlYbIGV8t+CIJ3zWmLiO",
   "collapsed_sections": [],
   "name": "Functional-Autoencoder",
   "provenance": []
  },
  "kernelspec": {
   "display_name": "Python 3",
   "language": "python",
   "name": "python3"
  },
  "language_info": {
   "codemirror_mode": {
    "name": "ipython",
    "version": 3
   },
   "file_extension": ".py",
   "mimetype": "text/x-python",
   "name": "python",
   "nbconvert_exporter": "python",
   "pygments_lexer": "ipython3",
   "version": "3.7.3"
  }
 },
 "nbformat": 4,
 "nbformat_minor": 4
}
